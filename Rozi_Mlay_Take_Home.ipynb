{
  "cells": [
    {
      "cell_type": "markdown",
      "metadata": {
        "id": "1YvKKsKT5Mwg"
      },
      "source": [
        "# **Name**: Rozi Hieromini Mlay <br>\n",
        "# **Project**: Customer segmentation for Dodoma Fresh Milk Distributor <br>\n",
        "\n",
        "## **Summary**<br>\n",
        "###### The main objective of this project is to develop models that will help Dodoma Fresh Milk target the right customers.<br> The goal is to help Dodoma Fresh milk not only increase sales but also to become more efficient in allocating advertising spend.<br>\n",
        "\n",
        "\n",
        "# **Problem Type**: Unsupervised learning<br>\n",
        "###### The problem is unsupervised since it does not have labels(dependent variable). Unsupervised learning mainly deals with identifying the structure or pattern of the data, and in this problem Kmeans Algorithim is applied for clustering. This algorithm take in unlabelled data and assign each data point to clusters.\n"
      ]
    },
    {
      "cell_type": "markdown",
      "metadata": {
        "id": "_ApP1lLow1hl"
      },
      "source": [
        "# Table of Contents\n",
        "\n",
        "1. [Importing libraries](#Libraries)\n",
        "2. [Loading Dataset](#dataset)\n",
        "3. [EDA -Understanding the data](#eda)\n",
        "4. [Visualizations](#viz)\n",
        "5. [Feature Engineering](#process)\n",
        "6. [Modeling Buildinga and Evaluation](#modeling)\n",
        "7. [Interpretation and recomendations](#interpreatation)\n",
        "8. [Conlusion](#conlusion)\n"
      ]
    },
    {
      "cell_type": "markdown",
      "metadata": {
        "id": "csTbwTqxxCt_"
      },
      "source": [
        "<a name=\"Libraries\"></a>\n",
        "## Section 1: Importing libraries"
      ]
    },
    {
      "cell_type": "code",
      "execution_count": 1,
      "metadata": {
        "id": "mgltrdIxuLvO"
      },
      "outputs": [],
      "source": [
        "#Importing Libraries\n",
        "import pandas as pd\n",
        "import numpy as np\n",
        "import matplotlib.pyplot as plt\n",
        "import seaborn as sns\n",
        "from sklearn.cluster import KMeans\n",
        "from sklearn.metrics import silhouette_score"
      ]
    },
    {
      "cell_type": "markdown",
      "metadata": {
        "id": "M5nYkCqjxTbZ"
      },
      "source": [
        "<a name = \"dataset\"><a/>\n",
        "## Section 2: Loading Dataset\n",
        "\n",
        "Getting the data ready for processing by laoding the csv file using pandas library. The dataset was aploades to github to make it easy to load in Colab"
      ]
    },
    {
      "cell_type": "code",
      "execution_count": 2,
      "metadata": {
        "colab": {
          "base_uri": "https://localhost:8080/",
          "height": 206
        },
        "id": "iVLbJqQ9uLvT",
        "outputId": "6677ad96-856d-4587-a908-3ec412f7c9b7"
      },
      "outputs": [
        {
          "output_type": "execute_result",
          "data": {
            "text/plain": [
              "   Merchant Id  Annual Revenue (k$)  Spending Score (1-100)           City  \\\n",
              "0            1                   15                      39         Mtwara   \n",
              "1            2                   15                      81  Zanzibar City   \n",
              "2            3                   16                       6         Mtwara   \n",
              "3            4                   16                      77  Zanzibar City   \n",
              "4            5                   17                      40         Mtwara   \n",
              "\n",
              "  Most Purchased Product  \n",
              "0           Mtindi 500ml  \n",
              "1       Fresh Milk 250ml  \n",
              "2           Mtindi 500ml  \n",
              "3       Fresh Milk 250ml  \n",
              "4           Mtindi 500ml  "
            ],
            "text/html": [
              "\n",
              "  <div id=\"df-c481dfe4-3c99-4ae6-85c9-0575ee951236\">\n",
              "    <div class=\"colab-df-container\">\n",
              "      <div>\n",
              "<style scoped>\n",
              "    .dataframe tbody tr th:only-of-type {\n",
              "        vertical-align: middle;\n",
              "    }\n",
              "\n",
              "    .dataframe tbody tr th {\n",
              "        vertical-align: top;\n",
              "    }\n",
              "\n",
              "    .dataframe thead th {\n",
              "        text-align: right;\n",
              "    }\n",
              "</style>\n",
              "<table border=\"1\" class=\"dataframe\">\n",
              "  <thead>\n",
              "    <tr style=\"text-align: right;\">\n",
              "      <th></th>\n",
              "      <th>Merchant Id</th>\n",
              "      <th>Annual Revenue (k$)</th>\n",
              "      <th>Spending Score (1-100)</th>\n",
              "      <th>City</th>\n",
              "      <th>Most Purchased Product</th>\n",
              "    </tr>\n",
              "  </thead>\n",
              "  <tbody>\n",
              "    <tr>\n",
              "      <th>0</th>\n",
              "      <td>1</td>\n",
              "      <td>15</td>\n",
              "      <td>39</td>\n",
              "      <td>Mtwara</td>\n",
              "      <td>Mtindi 500ml</td>\n",
              "    </tr>\n",
              "    <tr>\n",
              "      <th>1</th>\n",
              "      <td>2</td>\n",
              "      <td>15</td>\n",
              "      <td>81</td>\n",
              "      <td>Zanzibar City</td>\n",
              "      <td>Fresh Milk 250ml</td>\n",
              "    </tr>\n",
              "    <tr>\n",
              "      <th>2</th>\n",
              "      <td>3</td>\n",
              "      <td>16</td>\n",
              "      <td>6</td>\n",
              "      <td>Mtwara</td>\n",
              "      <td>Mtindi 500ml</td>\n",
              "    </tr>\n",
              "    <tr>\n",
              "      <th>3</th>\n",
              "      <td>4</td>\n",
              "      <td>16</td>\n",
              "      <td>77</td>\n",
              "      <td>Zanzibar City</td>\n",
              "      <td>Fresh Milk 250ml</td>\n",
              "    </tr>\n",
              "    <tr>\n",
              "      <th>4</th>\n",
              "      <td>5</td>\n",
              "      <td>17</td>\n",
              "      <td>40</td>\n",
              "      <td>Mtwara</td>\n",
              "      <td>Mtindi 500ml</td>\n",
              "    </tr>\n",
              "  </tbody>\n",
              "</table>\n",
              "</div>\n",
              "      <button class=\"colab-df-convert\" onclick=\"convertToInteractive('df-c481dfe4-3c99-4ae6-85c9-0575ee951236')\"\n",
              "              title=\"Convert this dataframe to an interactive table.\"\n",
              "              style=\"display:none;\">\n",
              "        \n",
              "  <svg xmlns=\"http://www.w3.org/2000/svg\" height=\"24px\"viewBox=\"0 0 24 24\"\n",
              "       width=\"24px\">\n",
              "    <path d=\"M0 0h24v24H0V0z\" fill=\"none\"/>\n",
              "    <path d=\"M18.56 5.44l.94 2.06.94-2.06 2.06-.94-2.06-.94-.94-2.06-.94 2.06-2.06.94zm-11 1L8.5 8.5l.94-2.06 2.06-.94-2.06-.94L8.5 2.5l-.94 2.06-2.06.94zm10 10l.94 2.06.94-2.06 2.06-.94-2.06-.94-.94-2.06-.94 2.06-2.06.94z\"/><path d=\"M17.41 7.96l-1.37-1.37c-.4-.4-.92-.59-1.43-.59-.52 0-1.04.2-1.43.59L10.3 9.45l-7.72 7.72c-.78.78-.78 2.05 0 2.83L4 21.41c.39.39.9.59 1.41.59.51 0 1.02-.2 1.41-.59l7.78-7.78 2.81-2.81c.8-.78.8-2.07 0-2.86zM5.41 20L4 18.59l7.72-7.72 1.47 1.35L5.41 20z\"/>\n",
              "  </svg>\n",
              "      </button>\n",
              "      \n",
              "  <style>\n",
              "    .colab-df-container {\n",
              "      display:flex;\n",
              "      flex-wrap:wrap;\n",
              "      gap: 12px;\n",
              "    }\n",
              "\n",
              "    .colab-df-convert {\n",
              "      background-color: #E8F0FE;\n",
              "      border: none;\n",
              "      border-radius: 50%;\n",
              "      cursor: pointer;\n",
              "      display: none;\n",
              "      fill: #1967D2;\n",
              "      height: 32px;\n",
              "      padding: 0 0 0 0;\n",
              "      width: 32px;\n",
              "    }\n",
              "\n",
              "    .colab-df-convert:hover {\n",
              "      background-color: #E2EBFA;\n",
              "      box-shadow: 0px 1px 2px rgba(60, 64, 67, 0.3), 0px 1px 3px 1px rgba(60, 64, 67, 0.15);\n",
              "      fill: #174EA6;\n",
              "    }\n",
              "\n",
              "    [theme=dark] .colab-df-convert {\n",
              "      background-color: #3B4455;\n",
              "      fill: #D2E3FC;\n",
              "    }\n",
              "\n",
              "    [theme=dark] .colab-df-convert:hover {\n",
              "      background-color: #434B5C;\n",
              "      box-shadow: 0px 1px 3px 1px rgba(0, 0, 0, 0.15);\n",
              "      filter: drop-shadow(0px 1px 2px rgba(0, 0, 0, 0.3));\n",
              "      fill: #FFFFFF;\n",
              "    }\n",
              "  </style>\n",
              "\n",
              "      <script>\n",
              "        const buttonEl =\n",
              "          document.querySelector('#df-c481dfe4-3c99-4ae6-85c9-0575ee951236 button.colab-df-convert');\n",
              "        buttonEl.style.display =\n",
              "          google.colab.kernel.accessAllowed ? 'block' : 'none';\n",
              "\n",
              "        async function convertToInteractive(key) {\n",
              "          const element = document.querySelector('#df-c481dfe4-3c99-4ae6-85c9-0575ee951236');\n",
              "          const dataTable =\n",
              "            await google.colab.kernel.invokeFunction('convertToInteractive',\n",
              "                                                     [key], {});\n",
              "          if (!dataTable) return;\n",
              "\n",
              "          const docLinkHtml = 'Like what you see? Visit the ' +\n",
              "            '<a target=\"_blank\" href=https://colab.research.google.com/notebooks/data_table.ipynb>data table notebook</a>'\n",
              "            + ' to learn more about interactive tables.';\n",
              "          element.innerHTML = '';\n",
              "          dataTable['output_type'] = 'display_data';\n",
              "          await google.colab.output.renderOutput(dataTable, element);\n",
              "          const docLink = document.createElement('div');\n",
              "          docLink.innerHTML = docLinkHtml;\n",
              "          element.appendChild(docLink);\n",
              "        }\n",
              "      </script>\n",
              "    </div>\n",
              "  </div>\n",
              "  "
            ]
          },
          "metadata": {},
          "execution_count": 2
        }
      ],
      "source": [
        "#Load the data\n",
        "data = pd.read_csv(\"https://raw.githubusercontent.com/RozieH/datasets/main/Take%20home%20project.csv\")\n",
        "data.head()"
      ]
    },
    {
      "cell_type": "markdown",
      "metadata": {
        "id": "RYbsj2oPuLvV"
      },
      "source": [
        "<a name = \"eda\"><a/>\n",
        "## Section 3: EDA - Understanding the data\n",
        "This sesction is to guide the understanding of the business context and the data, it also include the observations from the analysis."
      ]
    },
    {
      "cell_type": "code",
      "execution_count": 3,
      "metadata": {
        "colab": {
          "base_uri": "https://localhost:8080/"
        },
        "id": "JV4c_gtfuLvX",
        "outputId": "c7314682-c730-4a8e-e453-eba5001bc325"
      },
      "outputs": [
        {
          "output_type": "stream",
          "name": "stdout",
          "text": [
            "<class 'pandas.core.frame.DataFrame'>\n",
            "RangeIndex: 200 entries, 0 to 199\n",
            "Data columns (total 5 columns):\n",
            " #   Column                  Non-Null Count  Dtype \n",
            "---  ------                  --------------  ----- \n",
            " 0   Merchant Id             200 non-null    int64 \n",
            " 1   Annual Revenue (k$)     200 non-null    int64 \n",
            " 2   Spending Score (1-100)  200 non-null    int64 \n",
            " 3   City                    200 non-null    object\n",
            " 4   Most Purchased Product  200 non-null    object\n",
            "dtypes: int64(3), object(2)\n",
            "memory usage: 7.9+ KB\n"
          ]
        }
      ],
      "source": [
        "# get a summary of how many rows in the dataset and how many missing values is in each column and the the data types of the variables\n",
        "# the 'Non-Null Count' counts the number of values in each column that is not missing\n",
        "data.info()"
      ]
    },
    {
      "cell_type": "markdown",
      "metadata": {
        "id": "cSaP9EvlxwMc"
      },
      "source": [
        "**Observation**:<br>\n",
        "1. There are 200 records in the dataset\n",
        "\n",
        "2. There are 5 columns in the dataset\n",
        "\n",
        "3. There are no missing values in the dataset\n",
        "\n",
        "4. The dataset contain 3 variables of datatype interger and 2 variable od datatype object(categorical data)\n"
      ]
    },
    {
      "cell_type": "code",
      "execution_count": 4,
      "metadata": {
        "colab": {
          "base_uri": "https://localhost:8080/",
          "height": 300
        },
        "id": "NOLETlgTuLvY",
        "outputId": "f3ee495e-f471-4357-c18b-41134cf17047"
      },
      "outputs": [
        {
          "output_type": "execute_result",
          "data": {
            "text/plain": [
              "       Annual Revenue (k$)  Spending Score (1-100)\n",
              "count           200.000000              200.000000\n",
              "mean             60.560000               50.200000\n",
              "std              26.264721               25.823522\n",
              "min              15.000000                1.000000\n",
              "25%              41.500000               34.750000\n",
              "50%              61.500000               50.000000\n",
              "75%              78.000000               73.000000\n",
              "max             137.000000               99.000000"
            ],
            "text/html": [
              "\n",
              "  <div id=\"df-be0a720f-d60c-4f9e-9864-e0f3667494f7\">\n",
              "    <div class=\"colab-df-container\">\n",
              "      <div>\n",
              "<style scoped>\n",
              "    .dataframe tbody tr th:only-of-type {\n",
              "        vertical-align: middle;\n",
              "    }\n",
              "\n",
              "    .dataframe tbody tr th {\n",
              "        vertical-align: top;\n",
              "    }\n",
              "\n",
              "    .dataframe thead th {\n",
              "        text-align: right;\n",
              "    }\n",
              "</style>\n",
              "<table border=\"1\" class=\"dataframe\">\n",
              "  <thead>\n",
              "    <tr style=\"text-align: right;\">\n",
              "      <th></th>\n",
              "      <th>Annual Revenue (k$)</th>\n",
              "      <th>Spending Score (1-100)</th>\n",
              "    </tr>\n",
              "  </thead>\n",
              "  <tbody>\n",
              "    <tr>\n",
              "      <th>count</th>\n",
              "      <td>200.000000</td>\n",
              "      <td>200.000000</td>\n",
              "    </tr>\n",
              "    <tr>\n",
              "      <th>mean</th>\n",
              "      <td>60.560000</td>\n",
              "      <td>50.200000</td>\n",
              "    </tr>\n",
              "    <tr>\n",
              "      <th>std</th>\n",
              "      <td>26.264721</td>\n",
              "      <td>25.823522</td>\n",
              "    </tr>\n",
              "    <tr>\n",
              "      <th>min</th>\n",
              "      <td>15.000000</td>\n",
              "      <td>1.000000</td>\n",
              "    </tr>\n",
              "    <tr>\n",
              "      <th>25%</th>\n",
              "      <td>41.500000</td>\n",
              "      <td>34.750000</td>\n",
              "    </tr>\n",
              "    <tr>\n",
              "      <th>50%</th>\n",
              "      <td>61.500000</td>\n",
              "      <td>50.000000</td>\n",
              "    </tr>\n",
              "    <tr>\n",
              "      <th>75%</th>\n",
              "      <td>78.000000</td>\n",
              "      <td>73.000000</td>\n",
              "    </tr>\n",
              "    <tr>\n",
              "      <th>max</th>\n",
              "      <td>137.000000</td>\n",
              "      <td>99.000000</td>\n",
              "    </tr>\n",
              "  </tbody>\n",
              "</table>\n",
              "</div>\n",
              "      <button class=\"colab-df-convert\" onclick=\"convertToInteractive('df-be0a720f-d60c-4f9e-9864-e0f3667494f7')\"\n",
              "              title=\"Convert this dataframe to an interactive table.\"\n",
              "              style=\"display:none;\">\n",
              "        \n",
              "  <svg xmlns=\"http://www.w3.org/2000/svg\" height=\"24px\"viewBox=\"0 0 24 24\"\n",
              "       width=\"24px\">\n",
              "    <path d=\"M0 0h24v24H0V0z\" fill=\"none\"/>\n",
              "    <path d=\"M18.56 5.44l.94 2.06.94-2.06 2.06-.94-2.06-.94-.94-2.06-.94 2.06-2.06.94zm-11 1L8.5 8.5l.94-2.06 2.06-.94-2.06-.94L8.5 2.5l-.94 2.06-2.06.94zm10 10l.94 2.06.94-2.06 2.06-.94-2.06-.94-.94-2.06-.94 2.06-2.06.94z\"/><path d=\"M17.41 7.96l-1.37-1.37c-.4-.4-.92-.59-1.43-.59-.52 0-1.04.2-1.43.59L10.3 9.45l-7.72 7.72c-.78.78-.78 2.05 0 2.83L4 21.41c.39.39.9.59 1.41.59.51 0 1.02-.2 1.41-.59l7.78-7.78 2.81-2.81c.8-.78.8-2.07 0-2.86zM5.41 20L4 18.59l7.72-7.72 1.47 1.35L5.41 20z\"/>\n",
              "  </svg>\n",
              "      </button>\n",
              "      \n",
              "  <style>\n",
              "    .colab-df-container {\n",
              "      display:flex;\n",
              "      flex-wrap:wrap;\n",
              "      gap: 12px;\n",
              "    }\n",
              "\n",
              "    .colab-df-convert {\n",
              "      background-color: #E8F0FE;\n",
              "      border: none;\n",
              "      border-radius: 50%;\n",
              "      cursor: pointer;\n",
              "      display: none;\n",
              "      fill: #1967D2;\n",
              "      height: 32px;\n",
              "      padding: 0 0 0 0;\n",
              "      width: 32px;\n",
              "    }\n",
              "\n",
              "    .colab-df-convert:hover {\n",
              "      background-color: #E2EBFA;\n",
              "      box-shadow: 0px 1px 2px rgba(60, 64, 67, 0.3), 0px 1px 3px 1px rgba(60, 64, 67, 0.15);\n",
              "      fill: #174EA6;\n",
              "    }\n",
              "\n",
              "    [theme=dark] .colab-df-convert {\n",
              "      background-color: #3B4455;\n",
              "      fill: #D2E3FC;\n",
              "    }\n",
              "\n",
              "    [theme=dark] .colab-df-convert:hover {\n",
              "      background-color: #434B5C;\n",
              "      box-shadow: 0px 1px 3px 1px rgba(0, 0, 0, 0.15);\n",
              "      filter: drop-shadow(0px 1px 2px rgba(0, 0, 0, 0.3));\n",
              "      fill: #FFFFFF;\n",
              "    }\n",
              "  </style>\n",
              "\n",
              "      <script>\n",
              "        const buttonEl =\n",
              "          document.querySelector('#df-be0a720f-d60c-4f9e-9864-e0f3667494f7 button.colab-df-convert');\n",
              "        buttonEl.style.display =\n",
              "          google.colab.kernel.accessAllowed ? 'block' : 'none';\n",
              "\n",
              "        async function convertToInteractive(key) {\n",
              "          const element = document.querySelector('#df-be0a720f-d60c-4f9e-9864-e0f3667494f7');\n",
              "          const dataTable =\n",
              "            await google.colab.kernel.invokeFunction('convertToInteractive',\n",
              "                                                     [key], {});\n",
              "          if (!dataTable) return;\n",
              "\n",
              "          const docLinkHtml = 'Like what you see? Visit the ' +\n",
              "            '<a target=\"_blank\" href=https://colab.research.google.com/notebooks/data_table.ipynb>data table notebook</a>'\n",
              "            + ' to learn more about interactive tables.';\n",
              "          element.innerHTML = '';\n",
              "          dataTable['output_type'] = 'display_data';\n",
              "          await google.colab.output.renderOutput(dataTable, element);\n",
              "          const docLink = document.createElement('div');\n",
              "          docLink.innerHTML = docLinkHtml;\n",
              "          element.appendChild(docLink);\n",
              "        }\n",
              "      </script>\n",
              "    </div>\n",
              "  </div>\n",
              "  "
            ]
          },
          "metadata": {},
          "execution_count": 4
        }
      ],
      "source": [
        "#Statistical summaries for numeric data\n",
        "data[[\"Annual Revenue (k$)\",\"Spending Score (1-100)\"]].describe()"
      ]
    },
    {
      "cell_type": "markdown",
      "metadata": {
        "id": "2WoEpQPj-Lfm"
      },
      "source": [
        "**Observation** <br>\n",
        "1. The Average Annual Revenue for Dodoma Fesh Milk Merchants is $60.56k <br>\n",
        "2. The mean Spending score for the Merchants is 50.2 out of 100. This means their average spending score is standard, as it is neither too high nor too low."
      ]
    },
    {
      "cell_type": "code",
      "execution_count": 5,
      "metadata": {
        "colab": {
          "base_uri": "https://localhost:8080/",
          "height": 175
        },
        "id": "3MnzM9lGyTZU",
        "outputId": "2f4ee568-ed6f-4a5a-bbad-f566570a3622"
      },
      "outputs": [
        {
          "output_type": "execute_result",
          "data": {
            "text/plain": [
              "                 City Most Purchased Product\n",
              "count             200                    200\n",
              "unique              4                      4\n",
              "top     Dar es Salaam           Mtindi 250ml\n",
              "freq               82                     82"
            ],
            "text/html": [
              "\n",
              "  <div id=\"df-d9305e73-9a6d-401a-a1f7-413ec83ad5d6\">\n",
              "    <div class=\"colab-df-container\">\n",
              "      <div>\n",
              "<style scoped>\n",
              "    .dataframe tbody tr th:only-of-type {\n",
              "        vertical-align: middle;\n",
              "    }\n",
              "\n",
              "    .dataframe tbody tr th {\n",
              "        vertical-align: top;\n",
              "    }\n",
              "\n",
              "    .dataframe thead th {\n",
              "        text-align: right;\n",
              "    }\n",
              "</style>\n",
              "<table border=\"1\" class=\"dataframe\">\n",
              "  <thead>\n",
              "    <tr style=\"text-align: right;\">\n",
              "      <th></th>\n",
              "      <th>City</th>\n",
              "      <th>Most Purchased Product</th>\n",
              "    </tr>\n",
              "  </thead>\n",
              "  <tbody>\n",
              "    <tr>\n",
              "      <th>count</th>\n",
              "      <td>200</td>\n",
              "      <td>200</td>\n",
              "    </tr>\n",
              "    <tr>\n",
              "      <th>unique</th>\n",
              "      <td>4</td>\n",
              "      <td>4</td>\n",
              "    </tr>\n",
              "    <tr>\n",
              "      <th>top</th>\n",
              "      <td>Dar es Salaam</td>\n",
              "      <td>Mtindi 250ml</td>\n",
              "    </tr>\n",
              "    <tr>\n",
              "      <th>freq</th>\n",
              "      <td>82</td>\n",
              "      <td>82</td>\n",
              "    </tr>\n",
              "  </tbody>\n",
              "</table>\n",
              "</div>\n",
              "      <button class=\"colab-df-convert\" onclick=\"convertToInteractive('df-d9305e73-9a6d-401a-a1f7-413ec83ad5d6')\"\n",
              "              title=\"Convert this dataframe to an interactive table.\"\n",
              "              style=\"display:none;\">\n",
              "        \n",
              "  <svg xmlns=\"http://www.w3.org/2000/svg\" height=\"24px\"viewBox=\"0 0 24 24\"\n",
              "       width=\"24px\">\n",
              "    <path d=\"M0 0h24v24H0V0z\" fill=\"none\"/>\n",
              "    <path d=\"M18.56 5.44l.94 2.06.94-2.06 2.06-.94-2.06-.94-.94-2.06-.94 2.06-2.06.94zm-11 1L8.5 8.5l.94-2.06 2.06-.94-2.06-.94L8.5 2.5l-.94 2.06-2.06.94zm10 10l.94 2.06.94-2.06 2.06-.94-2.06-.94-.94-2.06-.94 2.06-2.06.94z\"/><path d=\"M17.41 7.96l-1.37-1.37c-.4-.4-.92-.59-1.43-.59-.52 0-1.04.2-1.43.59L10.3 9.45l-7.72 7.72c-.78.78-.78 2.05 0 2.83L4 21.41c.39.39.9.59 1.41.59.51 0 1.02-.2 1.41-.59l7.78-7.78 2.81-2.81c.8-.78.8-2.07 0-2.86zM5.41 20L4 18.59l7.72-7.72 1.47 1.35L5.41 20z\"/>\n",
              "  </svg>\n",
              "      </button>\n",
              "      \n",
              "  <style>\n",
              "    .colab-df-container {\n",
              "      display:flex;\n",
              "      flex-wrap:wrap;\n",
              "      gap: 12px;\n",
              "    }\n",
              "\n",
              "    .colab-df-convert {\n",
              "      background-color: #E8F0FE;\n",
              "      border: none;\n",
              "      border-radius: 50%;\n",
              "      cursor: pointer;\n",
              "      display: none;\n",
              "      fill: #1967D2;\n",
              "      height: 32px;\n",
              "      padding: 0 0 0 0;\n",
              "      width: 32px;\n",
              "    }\n",
              "\n",
              "    .colab-df-convert:hover {\n",
              "      background-color: #E2EBFA;\n",
              "      box-shadow: 0px 1px 2px rgba(60, 64, 67, 0.3), 0px 1px 3px 1px rgba(60, 64, 67, 0.15);\n",
              "      fill: #174EA6;\n",
              "    }\n",
              "\n",
              "    [theme=dark] .colab-df-convert {\n",
              "      background-color: #3B4455;\n",
              "      fill: #D2E3FC;\n",
              "    }\n",
              "\n",
              "    [theme=dark] .colab-df-convert:hover {\n",
              "      background-color: #434B5C;\n",
              "      box-shadow: 0px 1px 3px 1px rgba(0, 0, 0, 0.15);\n",
              "      filter: drop-shadow(0px 1px 2px rgba(0, 0, 0, 0.3));\n",
              "      fill: #FFFFFF;\n",
              "    }\n",
              "  </style>\n",
              "\n",
              "      <script>\n",
              "        const buttonEl =\n",
              "          document.querySelector('#df-d9305e73-9a6d-401a-a1f7-413ec83ad5d6 button.colab-df-convert');\n",
              "        buttonEl.style.display =\n",
              "          google.colab.kernel.accessAllowed ? 'block' : 'none';\n",
              "\n",
              "        async function convertToInteractive(key) {\n",
              "          const element = document.querySelector('#df-d9305e73-9a6d-401a-a1f7-413ec83ad5d6');\n",
              "          const dataTable =\n",
              "            await google.colab.kernel.invokeFunction('convertToInteractive',\n",
              "                                                     [key], {});\n",
              "          if (!dataTable) return;\n",
              "\n",
              "          const docLinkHtml = 'Like what you see? Visit the ' +\n",
              "            '<a target=\"_blank\" href=https://colab.research.google.com/notebooks/data_table.ipynb>data table notebook</a>'\n",
              "            + ' to learn more about interactive tables.';\n",
              "          element.innerHTML = '';\n",
              "          dataTable['output_type'] = 'display_data';\n",
              "          await google.colab.output.renderOutput(dataTable, element);\n",
              "          const docLink = document.createElement('div');\n",
              "          docLink.innerHTML = docLinkHtml;\n",
              "          element.appendChild(docLink);\n",
              "        }\n",
              "      </script>\n",
              "    </div>\n",
              "  </div>\n",
              "  "
            ]
          },
          "metadata": {},
          "execution_count": 5
        }
      ],
      "source": [
        "#statistical summary for categorical data\n",
        "data.describe(include=\"object\")"
      ]
    },
    {
      "cell_type": "markdown",
      "source": [
        "**Observation:**\n",
        "\n",
        "\n",
        " \n",
        "\n",
        "*   Dar es Salaam is the top best City with 82 Merchants\n",
        "*   The most purchased product from Dodoma Fresh Milk is Mtindi 250ml\n",
        "\n",
        "\n"
      ],
      "metadata": {
        "id": "_eY7yoPkO-dR"
      }
    },
    {
      "cell_type": "code",
      "execution_count": 6,
      "metadata": {
        "colab": {
          "base_uri": "https://localhost:8080/"
        },
        "id": "lfSWv3nXuLvZ",
        "outputId": "858e0778-347d-4723-9706-2dd8e471c5a8"
      },
      "outputs": [
        {
          "output_type": "execute_result",
          "data": {
            "text/plain": [
              "['Merchant Id',\n",
              " 'Annual Revenue (k$)',\n",
              " 'Spending Score (1-100)',\n",
              " 'City',\n",
              " 'Most Purchased Product']"
            ]
          },
          "metadata": {},
          "execution_count": 6
        }
      ],
      "source": [
        "# Listing the Dataset Columns\n",
        "list((data.columns))"
      ]
    },
    {
      "cell_type": "code",
      "execution_count": 7,
      "metadata": {
        "colab": {
          "base_uri": "https://localhost:8080/"
        },
        "id": "QmEVJYLTuLvf",
        "outputId": "30d28115-9a55-4f1d-8b08-1c45e2f0be5d"
      },
      "outputs": [
        {
          "output_type": "execute_result",
          "data": {
            "text/plain": [
              "Merchant Id               0\n",
              "Annual Revenue (k$)       0\n",
              "Spending Score (1-100)    0\n",
              "City                      0\n",
              "Most Purchased Product    0\n",
              "dtype: int64"
            ]
          },
          "metadata": {},
          "execution_count": 7
        }
      ],
      "source": [
        "#Checking for missing values\n",
        "data.isna().sum()"
      ]
    },
    {
      "cell_type": "markdown",
      "metadata": {
        "id": "fGHSapJXuLvg"
      },
      "source": [
        "**Observation**: There are no missing values in the dataset"
      ]
    },
    {
      "cell_type": "code",
      "execution_count": 8,
      "metadata": {
        "colab": {
          "base_uri": "https://localhost:8080/"
        },
        "id": "bMZsYa_7uLvg",
        "outputId": "1b2894d5-b59f-4b9e-b142-3a044502d7ef"
      },
      "outputs": [
        {
          "output_type": "execute_result",
          "data": {
            "text/plain": [
              "0"
            ]
          },
          "metadata": {},
          "execution_count": 8
        }
      ],
      "source": [
        "#checking for duplicates\n",
        "data.duplicated().any().sum()"
      ]
    },
    {
      "cell_type": "code",
      "execution_count": 9,
      "metadata": {
        "colab": {
          "base_uri": "https://localhost:8080/"
        },
        "id": "1W43i-WLuLvd",
        "outputId": "8d2c9335-071e-434c-ac78-f70f95ac1c72"
      },
      "outputs": [
        {
          "output_type": "stream",
          "name": "stdout",
          "text": [
            "Merchant Id : 200\n",
            "Annual Revenue (k$) : 64\n",
            "Spending Score (1-100) : 84\n",
            "City : 4\n",
            "Most Purchased Product : 4\n"
          ]
        }
      ],
      "source": [
        "# Exploring the unique values in each columns\n",
        "for x in data.columns:\n",
        "    #prinfting unique values\n",
        "    print(x ,':', len(data[x].unique()))"
      ]
    },
    {
      "cell_type": "markdown",
      "metadata": {
        "id": "6L-9odHvyFG7"
      },
      "source": [
        "**Observation:** <br>\n",
        "*  The unique values in Annual revenue for merchants is 64 out of 200 merchants which implies that majority have the similar Annual income.<br>\n",
        "*  Also the spending score of the Merchants is 84, this implies that 2 -3 merchants have the same spending scoree\n",
        "\n",
        "---\n",
        "\n"
      ]
    },
    {
      "cell_type": "code",
      "execution_count": 10,
      "metadata": {
        "colab": {
          "base_uri": "https://localhost:8080/"
        },
        "id": "28YEChOpuLvb",
        "outputId": "706e678d-a465-4511-ebdb-54a59e6c2d38"
      },
      "outputs": [
        {
          "output_type": "execute_result",
          "data": {
            "text/plain": [
              "Mtindi 250ml        82\n",
              "Fresh Milk 1ltr     76\n",
              "Mtindi 500ml        21\n",
              "Fresh Milk 250ml    21\n",
              "Name: Most Purchased Product, dtype: int64"
            ]
          },
          "metadata": {},
          "execution_count": 10
        }
      ],
      "source": [
        "#What are the unique product for Dododoma fresh Milks and their value count\n",
        "data['Most Purchased Product'].value_counts()"
      ]
    },
    {
      "cell_type": "markdown",
      "metadata": {
        "id": "ch4zT0KMxzH1"
      },
      "source": [
        "**Observation: Dodoma Fresh Milk distibutes the following products**<br>\n",
        "*  Mtindi 250ml as the most purchased product<br> \n",
        "*  Fresh Milk 1ltr the second most purchased product<br>\n",
        "*  Mtindi 500ml and Fresh Milk 250ml have the same purchased number of products."
      ]
    },
    {
      "cell_type": "code",
      "execution_count": 11,
      "metadata": {
        "colab": {
          "base_uri": "https://localhost:8080/"
        },
        "id": "Zyhbf8L95oZ_",
        "outputId": "a76fccd0-d65c-44bc-9e3d-5d79203f7757"
      },
      "outputs": [
        {
          "output_type": "execute_result",
          "data": {
            "text/plain": [
              "Dar es Salaam    82\n",
              "Moshi            76\n",
              "Mtwara           21\n",
              "Zanzibar City    21\n",
              "Name: City, dtype: int64"
            ]
          },
          "metadata": {},
          "execution_count": 11
        }
      ],
      "source": [
        "#What are the City that Dododoma fresh Milks distributes and their value count\n",
        "data['City'].value_counts()"
      ]
    },
    {
      "cell_type": "markdown",
      "metadata": {
        "id": "8AamwtXb6F0U"
      },
      "source": [
        "**Observation:** \n",
        "\n",
        "Dodoma Fresh Milk distibutes to the following City<br>\n",
        "*  Dar es Salaam - has the most number of Merchants<br>\n",
        "*  Moshi - The second City with most number of Mercharnts<br>\n",
        "*  Mtwara and Zanzibar City have the same purchased number of merchants"
      ]
    },
    {
      "cell_type": "markdown",
      "metadata": {
        "id": "Of4SkLtMvu6R"
      },
      "source": [
        "**Observation:** There are no duplicates in the dataset"
      ]
    },
    {
      "cell_type": "markdown",
      "metadata": {
        "id": "JldzIHEwuLvh"
      },
      "source": [
        "<a name = \"viz\"><a/>\n",
        "# Section 4:  Visualizations\n",
        "\n",
        "This section provides the visual and the insights from the  dataset."
      ]
    },
    {
      "cell_type": "code",
      "execution_count": 12,
      "metadata": {
        "colab": {
          "base_uri": "https://localhost:8080/",
          "height": 295
        },
        "id": "NlQMH90W3o3E",
        "outputId": "c54d7ae6-caa8-4c3a-ae9d-b7a3a2df513a"
      },
      "outputs": [
        {
          "output_type": "display_data",
          "data": {
            "text/plain": [
              "<Figure size 432x288 with 1 Axes>"
            ],
            "image/png": "[encoded data removed]"
          },
          "metadata": {
            "needs_background": "light"
          }
        }
      ],
      "source": [
        "# #Visualizing data points\n",
        "# sns.relplot(x='Annual Revenue (k$)', y='Spending Score (1-100)', data=data, kind=\"scatter\")\n",
        "# plt.show()\n",
        "\n",
        "##Distribution\n",
        "x = data['Annual Revenue (k$)']\n",
        "plt.hist(x, bins = np.arange(0,138,10))\n",
        "plt.ylabel('Count')\n",
        "plt.xlabel('Annual Revenue')\n",
        "plt.title('Distribution of Annual revenue (k$)')\n",
        "plt.show()"
      ]
    },
    {
      "cell_type": "markdown",
      "metadata": {
        "id": "BK3SnOlcwLj_"
      },
      "source": [
        "**Observation:**<br>\n",
        "1. The annual Revenue of the Merchants is distributed between USD 10k - 130k ,  and the bin with higher number of Merchants it is the one with an annual revenue between, 70 - 80  (k$)  .<br>\n",
        "\n",
        "2. Less than 5 Merchants have an annul Revenue between 110 -120 (k$) \n"
      ]
    },
    {
      "cell_type": "code",
      "execution_count": 13,
      "metadata": {
        "colab": {
          "base_uri": "https://localhost:8080/",
          "height": 206
        },
        "id": "_-C2WL3ouLvh",
        "outputId": "1be731f8-a6ce-499b-8608-708f2b81bf87"
      },
      "outputs": [
        {
          "output_type": "execute_result",
          "data": {
            "text/plain": [
              "                        Annual Revenue (k$)  Spending Score (1-100)\n",
              "Most Purchased Product                                             \n",
              "Fresh Milk 1ltr                   53.157895               49.697368\n",
              "Fresh Milk 250ml                  25.095238               80.047619\n",
              "Mtindi 250ml                      85.585366               50.792683\n",
              "Mtindi 500ml                      25.095238               19.857143"
            ],
            "text/html": [
              "\n",
              "  <div id=\"df-211b5c70-cbc9-42e3-a447-63ed31df1e64\">\n",
              "    <div class=\"colab-df-container\">\n",
              "      <div>\n",
              "<style scoped>\n",
              "    .dataframe tbody tr th:only-of-type {\n",
              "        vertical-align: middle;\n",
              "    }\n",
              "\n",
              "    .dataframe tbody tr th {\n",
              "        vertical-align: top;\n",
              "    }\n",
              "\n",
              "    .dataframe thead th {\n",
              "        text-align: right;\n",
              "    }\n",
              "</style>\n",
              "<table border=\"1\" class=\"dataframe\">\n",
              "  <thead>\n",
              "    <tr style=\"text-align: right;\">\n",
              "      <th></th>\n",
              "      <th>Annual Revenue (k$)</th>\n",
              "      <th>Spending Score (1-100)</th>\n",
              "    </tr>\n",
              "    <tr>\n",
              "      <th>Most Purchased Product</th>\n",
              "      <th></th>\n",
              "      <th></th>\n",
              "    </tr>\n",
              "  </thead>\n",
              "  <tbody>\n",
              "    <tr>\n",
              "      <th>Fresh Milk 1ltr</th>\n",
              "      <td>53.157895</td>\n",
              "      <td>49.697368</td>\n",
              "    </tr>\n",
              "    <tr>\n",
              "      <th>Fresh Milk 250ml</th>\n",
              "      <td>25.095238</td>\n",
              "      <td>80.047619</td>\n",
              "    </tr>\n",
              "    <tr>\n",
              "      <th>Mtindi 250ml</th>\n",
              "      <td>85.585366</td>\n",
              "      <td>50.792683</td>\n",
              "    </tr>\n",
              "    <tr>\n",
              "      <th>Mtindi 500ml</th>\n",
              "      <td>25.095238</td>\n",
              "      <td>19.857143</td>\n",
              "    </tr>\n",
              "  </tbody>\n",
              "</table>\n",
              "</div>\n",
              "      <button class=\"colab-df-convert\" onclick=\"convertToInteractive('df-211b5c70-cbc9-42e3-a447-63ed31df1e64')\"\n",
              "              title=\"Convert this dataframe to an interactive table.\"\n",
              "              style=\"display:none;\">\n",
              "        \n",
              "  <svg xmlns=\"http://www.w3.org/2000/svg\" height=\"24px\"viewBox=\"0 0 24 24\"\n",
              "       width=\"24px\">\n",
              "    <path d=\"M0 0h24v24H0V0z\" fill=\"none\"/>\n",
              "    <path d=\"M18.56 5.44l.94 2.06.94-2.06 2.06-.94-2.06-.94-.94-2.06-.94 2.06-2.06.94zm-11 1L8.5 8.5l.94-2.06 2.06-.94-2.06-.94L8.5 2.5l-.94 2.06-2.06.94zm10 10l.94 2.06.94-2.06 2.06-.94-2.06-.94-.94-2.06-.94 2.06-2.06.94z\"/><path d=\"M17.41 7.96l-1.37-1.37c-.4-.4-.92-.59-1.43-.59-.52 0-1.04.2-1.43.59L10.3 9.45l-7.72 7.72c-.78.78-.78 2.05 0 2.83L4 21.41c.39.39.9.59 1.41.59.51 0 1.02-.2 1.41-.59l7.78-7.78 2.81-2.81c.8-.78.8-2.07 0-2.86zM5.41 20L4 18.59l7.72-7.72 1.47 1.35L5.41 20z\"/>\n",
              "  </svg>\n",
              "      </button>\n",
              "      \n",
              "  <style>\n",
              "    .colab-df-container {\n",
              "      display:flex;\n",
              "      flex-wrap:wrap;\n",
              "      gap: 12px;\n",
              "    }\n",
              "\n",
              "    .colab-df-convert {\n",
              "      background-color: #E8F0FE;\n",
              "      border: none;\n",
              "      border-radius: 50%;\n",
              "      cursor: pointer;\n",
              "      display: none;\n",
              "      fill: #1967D2;\n",
              "      height: 32px;\n",
              "      padding: 0 0 0 0;\n",
              "      width: 32px;\n",
              "    }\n",
              "\n",
              "    .colab-df-convert:hover {\n",
              "      background-color: #E2EBFA;\n",
              "      box-shadow: 0px 1px 2px rgba(60, 64, 67, 0.3), 0px 1px 3px 1px rgba(60, 64, 67, 0.15);\n",
              "      fill: #174EA6;\n",
              "    }\n",
              "\n",
              "    [theme=dark] .colab-df-convert {\n",
              "      background-color: #3B4455;\n",
              "      fill: #D2E3FC;\n",
              "    }\n",
              "\n",
              "    [theme=dark] .colab-df-convert:hover {\n",
              "      background-color: #434B5C;\n",
              "      box-shadow: 0px 1px 3px 1px rgba(0, 0, 0, 0.15);\n",
              "      filter: drop-shadow(0px 1px 2px rgba(0, 0, 0, 0.3));\n",
              "      fill: #FFFFFF;\n",
              "    }\n",
              "  </style>\n",
              "\n",
              "      <script>\n",
              "        const buttonEl =\n",
              "          document.querySelector('#df-211b5c70-cbc9-42e3-a447-63ed31df1e64 button.colab-df-convert');\n",
              "        buttonEl.style.display =\n",
              "          google.colab.kernel.accessAllowed ? 'block' : 'none';\n",
              "\n",
              "        async function convertToInteractive(key) {\n",
              "          const element = document.querySelector('#df-211b5c70-cbc9-42e3-a447-63ed31df1e64');\n",
              "          const dataTable =\n",
              "            await google.colab.kernel.invokeFunction('convertToInteractive',\n",
              "                                                     [key], {});\n",
              "          if (!dataTable) return;\n",
              "\n",
              "          const docLinkHtml = 'Like what you see? Visit the ' +\n",
              "            '<a target=\"_blank\" href=https://colab.research.google.com/notebooks/data_table.ipynb>data table notebook</a>'\n",
              "            + ' to learn more about interactive tables.';\n",
              "          element.innerHTML = '';\n",
              "          dataTable['output_type'] = 'display_data';\n",
              "          await google.colab.output.renderOutput(dataTable, element);\n",
              "          const docLink = document.createElement('div');\n",
              "          docLink.innerHTML = docLinkHtml;\n",
              "          element.appendChild(docLink);\n",
              "        }\n",
              "      </script>\n",
              "    </div>\n",
              "  </div>\n",
              "  "
            ]
          },
          "metadata": {},
          "execution_count": 13
        }
      ],
      "source": [
        "#Most purchased product summary\n",
        "data[['Annual Revenue (k$)','Spending Score (1-100)','Most Purchased Product']].groupby(\"Most Purchased Product\").mean()"
      ]
    },
    {
      "cell_type": "code",
      "execution_count": 14,
      "metadata": {
        "colab": {
          "base_uri": "https://localhost:8080/",
          "height": 479
        },
        "id": "vi1jxMJJuLvi",
        "outputId": "06c9aef9-5533-4e8c-dccd-0231597fb5f1"
      },
      "outputs": [
        {
          "output_type": "display_data",
          "data": {
            "text/plain": [
              "<Figure size 576x432 with 1 Axes>"
            ],
            "image/png": "[encoded data removed]"
          },
          "metadata": {
            "needs_background": "light"
          }
        }
      ],
      "source": [
        "#Visualizing Most purchased product summary\n",
        "df = data[['Annual Revenue (k$)','Spending Score (1-100)','Most Purchased Product']].groupby(\"Most Purchased Product\").mean()\n",
        "\n",
        "df.plot(kind='bar', figsize = (8,6))\n",
        "plt.title(\"The mean of Annual revenue and Spending score per product\")\n",
        "plt.ylabel(\"Mean\")\n",
        "plt.xlabel(\"The most purchased product\")\n",
        "plt.show()"
      ]
    },
    {
      "cell_type": "markdown",
      "metadata": {
        "id": "vcIWCIm3v8_N"
      },
      "source": [
        "**Observation:**\n",
        "*  From the plot, Mtindi 250ml brings the highest revenue for the Dododma Fresh Milk <br>\n",
        "*  Merchants who buy Fresh Milk 250ml have the highest spending score compared to other merchants\n"
      ]
    },
    {
      "cell_type": "code",
      "execution_count": 15,
      "metadata": {
        "colab": {
          "base_uri": "https://localhost:8080/",
          "height": 206
        },
        "id": "6J115aQKdo2H",
        "outputId": "5b5b9246-ff57-4f89-9b61-21055ff29d88"
      },
      "outputs": [
        {
          "output_type": "execute_result",
          "data": {
            "text/plain": [
              "               Annual Revenue (k$)  Spending Score (1-100)\n",
              "City                                                      \n",
              "Dar es Salaam            85.585366               50.792683\n",
              "Moshi                    53.157895               49.697368\n",
              "Mtwara                   25.095238               19.857143\n",
              "Zanzibar City            25.095238               80.047619"
            ],
            "text/html": [
              "\n",
              "  <div id=\"df-004f9a16-35dd-4a7e-8003-2100ab1723f0\">\n",
              "    <div class=\"colab-df-container\">\n",
              "      <div>\n",
              "<style scoped>\n",
              "    .dataframe tbody tr th:only-of-type {\n",
              "        vertical-align: middle;\n",
              "    }\n",
              "\n",
              "    .dataframe tbody tr th {\n",
              "        vertical-align: top;\n",
              "    }\n",
              "\n",
              "    .dataframe thead th {\n",
              "        text-align: right;\n",
              "    }\n",
              "</style>\n",
              "<table border=\"1\" class=\"dataframe\">\n",
              "  <thead>\n",
              "    <tr style=\"text-align: right;\">\n",
              "      <th></th>\n",
              "      <th>Annual Revenue (k$)</th>\n",
              "      <th>Spending Score (1-100)</th>\n",
              "    </tr>\n",
              "    <tr>\n",
              "      <th>City</th>\n",
              "      <th></th>\n",
              "      <th></th>\n",
              "    </tr>\n",
              "  </thead>\n",
              "  <tbody>\n",
              "    <tr>\n",
              "      <th>Dar es Salaam</th>\n",
              "      <td>85.585366</td>\n",
              "      <td>50.792683</td>\n",
              "    </tr>\n",
              "    <tr>\n",
              "      <th>Moshi</th>\n",
              "      <td>53.157895</td>\n",
              "      <td>49.697368</td>\n",
              "    </tr>\n",
              "    <tr>\n",
              "      <th>Mtwara</th>\n",
              "      <td>25.095238</td>\n",
              "      <td>19.857143</td>\n",
              "    </tr>\n",
              "    <tr>\n",
              "      <th>Zanzibar City</th>\n",
              "      <td>25.095238</td>\n",
              "      <td>80.047619</td>\n",
              "    </tr>\n",
              "  </tbody>\n",
              "</table>\n",
              "</div>\n",
              "      <button class=\"colab-df-convert\" onclick=\"convertToInteractive('df-004f9a16-35dd-4a7e-8003-2100ab1723f0')\"\n",
              "              title=\"Convert this dataframe to an interactive table.\"\n",
              "              style=\"display:none;\">\n",
              "        \n",
              "  <svg xmlns=\"http://www.w3.org/2000/svg\" height=\"24px\"viewBox=\"0 0 24 24\"\n",
              "       width=\"24px\">\n",
              "    <path d=\"M0 0h24v24H0V0z\" fill=\"none\"/>\n",
              "    <path d=\"M18.56 5.44l.94 2.06.94-2.06 2.06-.94-2.06-.94-.94-2.06-.94 2.06-2.06.94zm-11 1L8.5 8.5l.94-2.06 2.06-.94-2.06-.94L8.5 2.5l-.94 2.06-2.06.94zm10 10l.94 2.06.94-2.06 2.06-.94-2.06-.94-.94-2.06-.94 2.06-2.06.94z\"/><path d=\"M17.41 7.96l-1.37-1.37c-.4-.4-.92-.59-1.43-.59-.52 0-1.04.2-1.43.59L10.3 9.45l-7.72 7.72c-.78.78-.78 2.05 0 2.83L4 21.41c.39.39.9.59 1.41.59.51 0 1.02-.2 1.41-.59l7.78-7.78 2.81-2.81c.8-.78.8-2.07 0-2.86zM5.41 20L4 18.59l7.72-7.72 1.47 1.35L5.41 20z\"/>\n",
              "  </svg>\n",
              "      </button>\n",
              "      \n",
              "  <style>\n",
              "    .colab-df-container {\n",
              "      display:flex;\n",
              "      flex-wrap:wrap;\n",
              "      gap: 12px;\n",
              "    }\n",
              "\n",
              "    .colab-df-convert {\n",
              "      background-color: #E8F0FE;\n",
              "      border: none;\n",
              "      border-radius: 50%;\n",
              "      cursor: pointer;\n",
              "      display: none;\n",
              "      fill: #1967D2;\n",
              "      height: 32px;\n",
              "      padding: 0 0 0 0;\n",
              "      width: 32px;\n",
              "    }\n",
              "\n",
              "    .colab-df-convert:hover {\n",
              "      background-color: #E2EBFA;\n",
              "      box-shadow: 0px 1px 2px rgba(60, 64, 67, 0.3), 0px 1px 3px 1px rgba(60, 64, 67, 0.15);\n",
              "      fill: #174EA6;\n",
              "    }\n",
              "\n",
              "    [theme=dark] .colab-df-convert {\n",
              "      background-color: #3B4455;\n",
              "      fill: #D2E3FC;\n",
              "    }\n",
              "\n",
              "    [theme=dark] .colab-df-convert:hover {\n",
              "      background-color: #434B5C;\n",
              "      box-shadow: 0px 1px 3px 1px rgba(0, 0, 0, 0.15);\n",
              "      filter: drop-shadow(0px 1px 2px rgba(0, 0, 0, 0.3));\n",
              "      fill: #FFFFFF;\n",
              "    }\n",
              "  </style>\n",
              "\n",
              "      <script>\n",
              "        const buttonEl =\n",
              "          document.querySelector('#df-004f9a16-35dd-4a7e-8003-2100ab1723f0 button.colab-df-convert');\n",
              "        buttonEl.style.display =\n",
              "          google.colab.kernel.accessAllowed ? 'block' : 'none';\n",
              "\n",
              "        async function convertToInteractive(key) {\n",
              "          const element = document.querySelector('#df-004f9a16-35dd-4a7e-8003-2100ab1723f0');\n",
              "          const dataTable =\n",
              "            await google.colab.kernel.invokeFunction('convertToInteractive',\n",
              "                                                     [key], {});\n",
              "          if (!dataTable) return;\n",
              "\n",
              "          const docLinkHtml = 'Like what you see? Visit the ' +\n",
              "            '<a target=\"_blank\" href=https://colab.research.google.com/notebooks/data_table.ipynb>data table notebook</a>'\n",
              "            + ' to learn more about interactive tables.';\n",
              "          element.innerHTML = '';\n",
              "          dataTable['output_type'] = 'display_data';\n",
              "          await google.colab.output.renderOutput(dataTable, element);\n",
              "          const docLink = document.createElement('div');\n",
              "          docLink.innerHTML = docLinkHtml;\n",
              "          element.appendChild(docLink);\n",
              "        }\n",
              "      </script>\n",
              "    </div>\n",
              "  </div>\n",
              "  "
            ]
          },
          "metadata": {},
          "execution_count": 15
        }
      ],
      "source": [
        "#Merchant by City Summary\n",
        "data[['Annual Revenue (k$)','Spending Score (1-100)','City']].groupby(\"City\").mean()"
      ]
    },
    {
      "cell_type": "code",
      "execution_count": 16,
      "metadata": {
        "colab": {
          "base_uri": "https://localhost:8080/",
          "height": 467
        },
        "id": "KMp0I4FyekTl",
        "outputId": "ab6bbc07-c6c1-4114-bd67-7b81c7d12c07"
      },
      "outputs": [
        {
          "output_type": "display_data",
          "data": {
            "text/plain": [
              "<Figure size 576x432 with 1 Axes>"
            ],
            "image/png": "[encoded data removed]"
          },
          "metadata": {
            "needs_background": "light"
          }
        }
      ],
      "source": [
        "#Merchant by City Summary\n",
        "df1 = data[['Annual Revenue (k$)','Spending Score (1-100)','City']].groupby(\"City\").mean()\n",
        "df1.plot(kind='bar', figsize = (8,6))\n",
        "plt.title(\"The mean of Annual revenue and Spending score by City\")\n",
        "plt.ylabel(\"Mean\")\n",
        "plt.xlabel(\"City\")\n",
        "plt.show()"
      ]
    },
    {
      "cell_type": "markdown",
      "source": [
        "**Observation:**\n",
        "*  Merchants from  Dar es Salaam have highest Annual revenue <br>\n",
        "*  Merchants from Zanzibar City have the highest spending score compared to other merchants from other cities"
      ],
      "metadata": {
        "id": "y0SvYxBSUQ7c"
      }
    },
    {
      "cell_type": "code",
      "execution_count": 17,
      "metadata": {
        "colab": {
          "base_uri": "https://localhost:8080/",
          "height": 279
        },
        "id": "In5z8Z7BGvxL",
        "outputId": "34cbe8c5-cf9a-40ba-80ac-1d93a1adb0e9"
      },
      "outputs": [
        {
          "output_type": "display_data",
          "data": {
            "text/plain": [
              "<Figure size 432x288 with 1 Axes>"
            ],
            "image/png": "[encoded data removed]"
          },
          "metadata": {
            "needs_background": "light"
          }
        }
      ],
      "source": [
        "sns.barplot(x ='City',y= 'Annual Revenue (k$)', data = data, hue = 'Most Purchased Product')\n",
        "plt.show()"
      ]
    },
    {
      "cell_type": "code",
      "execution_count": 18,
      "metadata": {
        "colab": {
          "base_uri": "https://localhost:8080/",
          "height": 295
        },
        "id": "yUZ3TrEyuLvj",
        "outputId": "7534ef15-7a71-4284-9b43-cc1f3edb4614"
      },
      "outputs": [
        {
          "output_type": "display_data",
          "data": {
            "text/plain": [
              "<Figure size 432x288 with 1 Axes>"
            ],
            "image/png": "[encoded data removed]"
          },
          "metadata": {
            "needs_background": "light"
          }
        }
      ],
      "source": [
        "# Most Purchased Product countplot\n",
        "plt.figure()\n",
        "sns.countplot(x = 'Most Purchased Product', data = data)\n",
        "plt.title('Most Purchased Product count plot')\n",
        "plt.show()"
      ]
    },
    {
      "cell_type": "markdown",
      "metadata": {
        "id": "3UFupfR7uLvj"
      },
      "source": [
        "**Observation:**\n",
        "\n",
        "\n",
        "*  The most purchased product at Dodoma fresh milk is Mtindi 250ml"
      ]
    },
    {
      "cell_type": "code",
      "execution_count": 19,
      "metadata": {
        "colab": {
          "base_uri": "https://localhost:8080/",
          "height": 295
        },
        "id": "ivhnXNUBf2US",
        "outputId": "64b659ca-90b7-4239-86ad-ab4334710e51"
      },
      "outputs": [
        {
          "output_type": "display_data",
          "data": {
            "text/plain": [
              "<Figure size 432x288 with 1 Axes>"
            ],
            "image/png": "[encoded data removed]"
          },
          "metadata": {
            "needs_background": "light"
          }
        }
      ],
      "source": [
        "# Mechants per City countplot\n",
        "plt.figure()\n",
        "sns.countplot(x = 'City', data = data)\n",
        "plt.title('Merchant per City count plot')\n",
        "plt.show()"
      ]
    },
    {
      "cell_type": "markdown",
      "metadata": {
        "id": "XDICUcG3gV5a"
      },
      "source": [
        "**Observation**: \n",
        "\n",
        "* Majority of the Dodoma fresh milk merchants are from Dar es Salaam Cityfollowed by Moshi City.\n",
        "* Mtwara and Zanzibar have few and  same number of Merchants"
      ]
    },
    {
      "cell_type": "code",
      "execution_count": 20,
      "metadata": {
        "colab": {
          "base_uri": "https://localhost:8080/",
          "height": 324
        },
        "id": "0nUx4rjj5qUl",
        "outputId": "26562c9f-929d-4899-e6ad-3be60f70b8a8"
      },
      "outputs": [
        {
          "output_type": "display_data",
          "data": {
            "text/plain": [
              "<Figure size 360x360 with 2 Axes>"
            ],
            "image/png": "[encoded data removed]"
          },
          "metadata": {
            "needs_background": "light"
          }
        }
      ],
      "source": [
        "#plotting heat map for correlation\n",
        "plt.figure(figsize=(5,5))\n",
        "sns.heatmap(data[[\"Annual Revenue (k$)\",\"Spending Score (1-100)\"]].corr(), annot=True)\n",
        "plt.show()"
      ]
    },
    {
      "cell_type": "markdown",
      "metadata": {
        "id": "szR7S5VRzHWx"
      },
      "source": [
        "**Observation:**\n",
        "*  There is positive but very weak correlation between the spending score and the annual revenue.\n"
      ]
    },
    {
      "cell_type": "markdown",
      "metadata": {
        "id": "4g7arwxd1QxL"
      },
      "source": [
        "<a name = \"process\"><a/>\n",
        "# Section 5: Feature Engineering\n",
        "This section focus on data processing, such as renaming the variables, removing the least significant variables and one hot encoding for the categorical covariates.\n",
        "\n"
      ]
    },
    {
      "cell_type": "code",
      "execution_count": 21,
      "metadata": {
        "colab": {
          "base_uri": "https://localhost:8080/"
        },
        "id": "PxpgR4aiFgRh",
        "outputId": "8391731a-cf76-4d59-b2b2-076333b9bfb8"
      },
      "outputs": [
        {
          "output_type": "execute_result",
          "data": {
            "text/plain": [
              "Index(['Merchant Id', 'Annual_Revenue', 'Spending_Score', 'City', 'Product'], dtype='object')"
            ]
          },
          "metadata": {},
          "execution_count": 21
        }
      ],
      "source": [
        "#Renaming columns to shortern them for readability\n",
        "data.rename(columns = {'Annual Revenue (k$)':'Annual_Revenue', 'Spending Score (1-100)':'Spending_Score','Most Purchased Product':'Product'}, inplace = True)\n",
        "data.columns"
      ]
    },
    {
      "cell_type": "code",
      "execution_count": 22,
      "metadata": {
        "id": "rPlko49M564Q"
      },
      "outputs": [],
      "source": [
        "#drop customer Id since we dont need it for modeling\n",
        "data = data.drop('Merchant Id', axis =1)"
      ]
    },
    {
      "cell_type": "markdown",
      "metadata": {
        "id": "1pTwwrkFDggN"
      },
      "source": [
        "One hot encoding:<br>\n",
        "* To create dummy variables for categorical variables such as **City and product** to make our taining data more useful and expressive for building robust model."
      ]
    },
    {
      "cell_type": "code",
      "execution_count": 23,
      "metadata": {
        "colab": {
          "base_uri": "https://localhost:8080/",
          "height": 143
        },
        "id": "jabT4pJhDlKV",
        "outputId": "a0d59ec2-0894-419b-c80f-29d2c1466776"
      },
      "outputs": [
        {
          "output_type": "execute_result",
          "data": {
            "text/plain": [
              "   Annual_Revenue  Spending_Score           Product  City_Dar es Salaam  \\\n",
              "0              15              39      Mtindi 500ml                   0   \n",
              "1              15              81  Fresh Milk 250ml                   0   \n",
              "2              16               6      Mtindi 500ml                   0   \n",
              "\n",
              "   City_Moshi  City_Mtwara  City_Zanzibar City  \n",
              "0           0            1                   0  \n",
              "1           0            0                   1  \n",
              "2           0            1                   0  "
            ],
            "text/html": [
              "\n",
              "  <div id=\"df-9d33776c-e3f8-47ad-9be4-663d81f66197\">\n",
              "    <div class=\"colab-df-container\">\n",
              "      <div>\n",
              "<style scoped>\n",
              "    .dataframe tbody tr th:only-of-type {\n",
              "        vertical-align: middle;\n",
              "    }\n",
              "\n",
              "    .dataframe tbody tr th {\n",
              "        vertical-align: top;\n",
              "    }\n",
              "\n",
              "    .dataframe thead th {\n",
              "        text-align: right;\n",
              "    }\n",
              "</style>\n",
              "<table border=\"1\" class=\"dataframe\">\n",
              "  <thead>\n",
              "    <tr style=\"text-align: right;\">\n",
              "      <th></th>\n",
              "      <th>Annual_Revenue</th>\n",
              "      <th>Spending_Score</th>\n",
              "      <th>Product</th>\n",
              "      <th>City_Dar es Salaam</th>\n",
              "      <th>City_Moshi</th>\n",
              "      <th>City_Mtwara</th>\n",
              "      <th>City_Zanzibar City</th>\n",
              "    </tr>\n",
              "  </thead>\n",
              "  <tbody>\n",
              "    <tr>\n",
              "      <th>0</th>\n",
              "      <td>15</td>\n",
              "      <td>39</td>\n",
              "      <td>Mtindi 500ml</td>\n",
              "      <td>0</td>\n",
              "      <td>0</td>\n",
              "      <td>1</td>\n",
              "      <td>0</td>\n",
              "    </tr>\n",
              "    <tr>\n",
              "      <th>1</th>\n",
              "      <td>15</td>\n",
              "      <td>81</td>\n",
              "      <td>Fresh Milk 250ml</td>\n",
              "      <td>0</td>\n",
              "      <td>0</td>\n",
              "      <td>0</td>\n",
              "      <td>1</td>\n",
              "    </tr>\n",
              "    <tr>\n",
              "      <th>2</th>\n",
              "      <td>16</td>\n",
              "      <td>6</td>\n",
              "      <td>Mtindi 500ml</td>\n",
              "      <td>0</td>\n",
              "      <td>0</td>\n",
              "      <td>1</td>\n",
              "      <td>0</td>\n",
              "    </tr>\n",
              "  </tbody>\n",
              "</table>\n",
              "</div>\n",
              "      <button class=\"colab-df-convert\" onclick=\"convertToInteractive('df-9d33776c-e3f8-47ad-9be4-663d81f66197')\"\n",
              "              title=\"Convert this dataframe to an interactive table.\"\n",
              "              style=\"display:none;\">\n",
              "        \n",
              "  <svg xmlns=\"http://www.w3.org/2000/svg\" height=\"24px\"viewBox=\"0 0 24 24\"\n",
              "       width=\"24px\">\n",
              "    <path d=\"M0 0h24v24H0V0z\" fill=\"none\"/>\n",
              "    <path d=\"M18.56 5.44l.94 2.06.94-2.06 2.06-.94-2.06-.94-.94-2.06-.94 2.06-2.06.94zm-11 1L8.5 8.5l.94-2.06 2.06-.94-2.06-.94L8.5 2.5l-.94 2.06-2.06.94zm10 10l.94 2.06.94-2.06 2.06-.94-2.06-.94-.94-2.06-.94 2.06-2.06.94z\"/><path d=\"M17.41 7.96l-1.37-1.37c-.4-.4-.92-.59-1.43-.59-.52 0-1.04.2-1.43.59L10.3 9.45l-7.72 7.72c-.78.78-.78 2.05 0 2.83L4 21.41c.39.39.9.59 1.41.59.51 0 1.02-.2 1.41-.59l7.78-7.78 2.81-2.81c.8-.78.8-2.07 0-2.86zM5.41 20L4 18.59l7.72-7.72 1.47 1.35L5.41 20z\"/>\n",
              "  </svg>\n",
              "      </button>\n",
              "      \n",
              "  <style>\n",
              "    .colab-df-container {\n",
              "      display:flex;\n",
              "      flex-wrap:wrap;\n",
              "      gap: 12px;\n",
              "    }\n",
              "\n",
              "    .colab-df-convert {\n",
              "      background-color: #E8F0FE;\n",
              "      border: none;\n",
              "      border-radius: 50%;\n",
              "      cursor: pointer;\n",
              "      display: none;\n",
              "      fill: #1967D2;\n",
              "      height: 32px;\n",
              "      padding: 0 0 0 0;\n",
              "      width: 32px;\n",
              "    }\n",
              "\n",
              "    .colab-df-convert:hover {\n",
              "      background-color: #E2EBFA;\n",
              "      box-shadow: 0px 1px 2px rgba(60, 64, 67, 0.3), 0px 1px 3px 1px rgba(60, 64, 67, 0.15);\n",
              "      fill: #174EA6;\n",
              "    }\n",
              "\n",
              "    [theme=dark] .colab-df-convert {\n",
              "      background-color: #3B4455;\n",
              "      fill: #D2E3FC;\n",
              "    }\n",
              "\n",
              "    [theme=dark] .colab-df-convert:hover {\n",
              "      background-color: #434B5C;\n",
              "      box-shadow: 0px 1px 3px 1px rgba(0, 0, 0, 0.15);\n",
              "      filter: drop-shadow(0px 1px 2px rgba(0, 0, 0, 0.3));\n",
              "      fill: #FFFFFF;\n",
              "    }\n",
              "  </style>\n",
              "\n",
              "      <script>\n",
              "        const buttonEl =\n",
              "          document.querySelector('#df-9d33776c-e3f8-47ad-9be4-663d81f66197 button.colab-df-convert');\n",
              "        buttonEl.style.display =\n",
              "          google.colab.kernel.accessAllowed ? 'block' : 'none';\n",
              "\n",
              "        async function convertToInteractive(key) {\n",
              "          const element = document.querySelector('#df-9d33776c-e3f8-47ad-9be4-663d81f66197');\n",
              "          const dataTable =\n",
              "            await google.colab.kernel.invokeFunction('convertToInteractive',\n",
              "                                                     [key], {});\n",
              "          if (!dataTable) return;\n",
              "\n",
              "          const docLinkHtml = 'Like what you see? Visit the ' +\n",
              "            '<a target=\"_blank\" href=https://colab.research.google.com/notebooks/data_table.ipynb>data table notebook</a>'\n",
              "            + ' to learn more about interactive tables.';\n",
              "          element.innerHTML = '';\n",
              "          dataTable['output_type'] = 'display_data';\n",
              "          await google.colab.output.renderOutput(dataTable, element);\n",
              "          const docLink = document.createElement('div');\n",
              "          docLink.innerHTML = docLinkHtml;\n",
              "          element.appendChild(docLink);\n",
              "        }\n",
              "      </script>\n",
              "    </div>\n",
              "  </div>\n",
              "  "
            ]
          },
          "metadata": {},
          "execution_count": 23
        }
      ],
      "source": [
        "# Step 1: one hot encode the categorical covariate City\n",
        "one_hot_city = pd.get_dummies(data['City'], prefix='City')\n",
        "\n",
        "#Step 2: use pd.concat to join the new columns with your original dataframe\n",
        "data = pd.concat([data, one_hot_city], axis=1)\n",
        "\n",
        "#Stpe 3: now drop the original City column (you don't need it anymore)\n",
        "data.drop(['City'], axis=1, inplace=True)\n",
        "\n",
        "# Step 4: print the resultant dataframe\n",
        "data.head(3)"
      ]
    },
    {
      "cell_type": "code",
      "execution_count": 24,
      "metadata": {
        "colab": {
          "base_uri": "https://localhost:8080/",
          "height": 285
        },
        "id": "WkgsNfpPEUoR",
        "outputId": "b425345d-8610-49d3-b1b3-44958b1daa4b"
      },
      "outputs": [
        {
          "output_type": "execute_result",
          "data": {
            "text/plain": [
              "   Annual_Revenue  Spending_Score  City_Dar es Salaam  City_Moshi  \\\n",
              "0              15              39                   0           0   \n",
              "1              15              81                   0           0   \n",
              "2              16               6                   0           0   \n",
              "3              16              77                   0           0   \n",
              "4              17              40                   0           0   \n",
              "\n",
              "   City_Mtwara  City_Zanzibar City  Product_Fresh Milk 1ltr  \\\n",
              "0            1                   0                        0   \n",
              "1            0                   1                        0   \n",
              "2            1                   0                        0   \n",
              "3            0                   1                        0   \n",
              "4            1                   0                        0   \n",
              "\n",
              "   Product_Fresh Milk 250ml  Product_Mtindi 250ml  Product_Mtindi 500ml  \n",
              "0                         0                     0                     1  \n",
              "1                         1                     0                     0  \n",
              "2                         0                     0                     1  \n",
              "3                         1                     0                     0  \n",
              "4                         0                     0                     1  "
            ],
            "text/html": [
              "\n",
              "  <div id=\"df-adce45ac-7aef-469e-aa09-77eeb9d44e3a\">\n",
              "    <div class=\"colab-df-container\">\n",
              "      <div>\n",
              "<style scoped>\n",
              "    .dataframe tbody tr th:only-of-type {\n",
              "        vertical-align: middle;\n",
              "    }\n",
              "\n",
              "    .dataframe tbody tr th {\n",
              "        vertical-align: top;\n",
              "    }\n",
              "\n",
              "    .dataframe thead th {\n",
              "        text-align: right;\n",
              "    }\n",
              "</style>\n",
              "<table border=\"1\" class=\"dataframe\">\n",
              "  <thead>\n",
              "    <tr style=\"text-align: right;\">\n",
              "      <th></th>\n",
              "      <th>Annual_Revenue</th>\n",
              "      <th>Spending_Score</th>\n",
              "      <th>City_Dar es Salaam</th>\n",
              "      <th>City_Moshi</th>\n",
              "      <th>City_Mtwara</th>\n",
              "      <th>City_Zanzibar City</th>\n",
              "      <th>Product_Fresh Milk 1ltr</th>\n",
              "      <th>Product_Fresh Milk 250ml</th>\n",
              "      <th>Product_Mtindi 250ml</th>\n",
              "      <th>Product_Mtindi 500ml</th>\n",
              "    </tr>\n",
              "  </thead>\n",
              "  <tbody>\n",
              "    <tr>\n",
              "      <th>0</th>\n",
              "      <td>15</td>\n",
              "      <td>39</td>\n",
              "      <td>0</td>\n",
              "      <td>0</td>\n",
              "      <td>1</td>\n",
              "      <td>0</td>\n",
              "      <td>0</td>\n",
              "      <td>0</td>\n",
              "      <td>0</td>\n",
              "      <td>1</td>\n",
              "    </tr>\n",
              "    <tr>\n",
              "      <th>1</th>\n",
              "      <td>15</td>\n",
              "      <td>81</td>\n",
              "      <td>0</td>\n",
              "      <td>0</td>\n",
              "      <td>0</td>\n",
              "      <td>1</td>\n",
              "      <td>0</td>\n",
              "      <td>1</td>\n",
              "      <td>0</td>\n",
              "      <td>0</td>\n",
              "    </tr>\n",
              "    <tr>\n",
              "      <th>2</th>\n",
              "      <td>16</td>\n",
              "      <td>6</td>\n",
              "      <td>0</td>\n",
              "      <td>0</td>\n",
              "      <td>1</td>\n",
              "      <td>0</td>\n",
              "      <td>0</td>\n",
              "      <td>0</td>\n",
              "      <td>0</td>\n",
              "      <td>1</td>\n",
              "    </tr>\n",
              "    <tr>\n",
              "      <th>3</th>\n",
              "      <td>16</td>\n",
              "      <td>77</td>\n",
              "      <td>0</td>\n",
              "      <td>0</td>\n",
              "      <td>0</td>\n",
              "      <td>1</td>\n",
              "      <td>0</td>\n",
              "      <td>1</td>\n",
              "      <td>0</td>\n",
              "      <td>0</td>\n",
              "    </tr>\n",
              "    <tr>\n",
              "      <th>4</th>\n",
              "      <td>17</td>\n",
              "      <td>40</td>\n",
              "      <td>0</td>\n",
              "      <td>0</td>\n",
              "      <td>1</td>\n",
              "      <td>0</td>\n",
              "      <td>0</td>\n",
              "      <td>0</td>\n",
              "      <td>0</td>\n",
              "      <td>1</td>\n",
              "    </tr>\n",
              "  </tbody>\n",
              "</table>\n",
              "</div>\n",
              "      <button class=\"colab-df-convert\" onclick=\"convertToInteractive('df-adce45ac-7aef-469e-aa09-77eeb9d44e3a')\"\n",
              "              title=\"Convert this dataframe to an interactive table.\"\n",
              "              style=\"display:none;\">\n",
              "        \n",
              "  <svg xmlns=\"http://www.w3.org/2000/svg\" height=\"24px\"viewBox=\"0 0 24 24\"\n",
              "       width=\"24px\">\n",
              "    <path d=\"M0 0h24v24H0V0z\" fill=\"none\"/>\n",
              "    <path d=\"M18.56 5.44l.94 2.06.94-2.06 2.06-.94-2.06-.94-.94-2.06-.94 2.06-2.06.94zm-11 1L8.5 8.5l.94-2.06 2.06-.94-2.06-.94L8.5 2.5l-.94 2.06-2.06.94zm10 10l.94 2.06.94-2.06 2.06-.94-2.06-.94-.94-2.06-.94 2.06-2.06.94z\"/><path d=\"M17.41 7.96l-1.37-1.37c-.4-.4-.92-.59-1.43-.59-.52 0-1.04.2-1.43.59L10.3 9.45l-7.72 7.72c-.78.78-.78 2.05 0 2.83L4 21.41c.39.39.9.59 1.41.59.51 0 1.02-.2 1.41-.59l7.78-7.78 2.81-2.81c.8-.78.8-2.07 0-2.86zM5.41 20L4 18.59l7.72-7.72 1.47 1.35L5.41 20z\"/>\n",
              "  </svg>\n",
              "      </button>\n",
              "      \n",
              "  <style>\n",
              "    .colab-df-container {\n",
              "      display:flex;\n",
              "      flex-wrap:wrap;\n",
              "      gap: 12px;\n",
              "    }\n",
              "\n",
              "    .colab-df-convert {\n",
              "      background-color: #E8F0FE;\n",
              "      border: none;\n",
              "      border-radius: 50%;\n",
              "      cursor: pointer;\n",
              "      display: none;\n",
              "      fill: #1967D2;\n",
              "      height: 32px;\n",
              "      padding: 0 0 0 0;\n",
              "      width: 32px;\n",
              "    }\n",
              "\n",
              "    .colab-df-convert:hover {\n",
              "      background-color: #E2EBFA;\n",
              "      box-shadow: 0px 1px 2px rgba(60, 64, 67, 0.3), 0px 1px 3px 1px rgba(60, 64, 67, 0.15);\n",
              "      fill: #174EA6;\n",
              "    }\n",
              "\n",
              "    [theme=dark] .colab-df-convert {\n",
              "      background-color: #3B4455;\n",
              "      fill: #D2E3FC;\n",
              "    }\n",
              "\n",
              "    [theme=dark] .colab-df-convert:hover {\n",
              "      background-color: #434B5C;\n",
              "      box-shadow: 0px 1px 3px 1px rgba(0, 0, 0, 0.15);\n",
              "      filter: drop-shadow(0px 1px 2px rgba(0, 0, 0, 0.3));\n",
              "      fill: #FFFFFF;\n",
              "    }\n",
              "  </style>\n",
              "\n",
              "      <script>\n",
              "        const buttonEl =\n",
              "          document.querySelector('#df-adce45ac-7aef-469e-aa09-77eeb9d44e3a button.colab-df-convert');\n",
              "        buttonEl.style.display =\n",
              "          google.colab.kernel.accessAllowed ? 'block' : 'none';\n",
              "\n",
              "        async function convertToInteractive(key) {\n",
              "          const element = document.querySelector('#df-adce45ac-7aef-469e-aa09-77eeb9d44e3a');\n",
              "          const dataTable =\n",
              "            await google.colab.kernel.invokeFunction('convertToInteractive',\n",
              "                                                     [key], {});\n",
              "          if (!dataTable) return;\n",
              "\n",
              "          const docLinkHtml = 'Like what you see? Visit the ' +\n",
              "            '<a target=\"_blank\" href=https://colab.research.google.com/notebooks/data_table.ipynb>data table notebook</a>'\n",
              "            + ' to learn more about interactive tables.';\n",
              "          element.innerHTML = '';\n",
              "          dataTable['output_type'] = 'display_data';\n",
              "          await google.colab.output.renderOutput(dataTable, element);\n",
              "          const docLink = document.createElement('div');\n",
              "          docLink.innerHTML = docLinkHtml;\n",
              "          element.appendChild(docLink);\n",
              "        }\n",
              "      </script>\n",
              "    </div>\n",
              "  </div>\n",
              "  "
            ]
          },
          "metadata": {},
          "execution_count": 24
        }
      ],
      "source": [
        "# Step 1: one hot encode the categorical covariate Product\n",
        "one_hot_product = pd.get_dummies(data['Product'], prefix='Product')\n",
        "\n",
        "#Step 2: use pd.concat to join the new columns with your original dataframe\n",
        "data = pd.concat([data, one_hot_product], axis=1)\n",
        "\n",
        "#Stpe 3: now drop the original City column (you don't need it anymore)\n",
        "data.drop(['Product'], axis=1, inplace=True)\n",
        "\n",
        "# Step 4: print the resultant dataframe\n",
        "data.head()"
      ]
    },
    {
      "cell_type": "code",
      "source": [
        ""
      ],
      "metadata": {
        "id": "KDVMVVS6xf0N"
      },
      "execution_count": 24,
      "outputs": []
    },
    {
      "cell_type": "markdown",
      "metadata": {
        "id": "EdCbWwpRwzDe"
      },
      "source": [
        "<a name = \"modeling\"><a/>\n",
        "# Section 6: Model Building and Evaluation\n"
      ]
    },
    {
      "cell_type": "markdown",
      "source": [
        "## Customer Segmentaion using Kmeans Technique\n",
        "Now that we have preprocessed the data, we are ready to build models that will segment the Customers."
      ],
      "metadata": {
        "id": "6WajXPrhxQIf"
      }
    },
    {
      "cell_type": "code",
      "execution_count": 25,
      "metadata": {
        "id": "uDZn8_8BB9Ij"
      },
      "outputs": [],
      "source": [
        "#Building the Model using KMeans Algorithm \n",
        "#ELBOW Method is used to figure out the optimum number of clusters\n",
        "cs=[]\n",
        "\n",
        "#It  always assumed the max number of cluster to be 10\n",
        "#getting maximum no of clusters\n",
        "for i in range(1,11):\n",
        "    kmeans = KMeans(n_clusters= i, init='k-means++', random_state=1)\n",
        "    kmeans.fit(data)\n",
        "    cs.append(kmeans.inertia_)\n",
        "\n",
        "#inertia_ is the formula used to segregate the data points into clusters"
      ]
    },
    {
      "cell_type": "code",
      "execution_count": 26,
      "metadata": {
        "colab": {
          "base_uri": "https://localhost:8080/",
          "height": 295
        },
        "id": "oZ8J5cIYH8yK",
        "outputId": "d2bade21-d811-4b3a-951e-613df47f1d08"
      },
      "outputs": [
        {
          "output_type": "display_data",
          "data": {
            "text/plain": [
              "<Figure size 432x288 with 1 Axes>"
            ],
            "image/png": "[encoded data removed]"
          },
          "metadata": {
            "needs_background": "light"
          }
        }
      ],
      "source": [
        "#Visualizing the ELBOW method to get the optimal value of K \n",
        "plt.plot(range(1,11), cs)\n",
        "plt.title('The Elbow Method')\n",
        "plt.xlabel('no of clusters')\n",
        "plt.ylabel('cs')\n",
        "plt.show()"
      ]
    },
    {
      "cell_type": "markdown",
      "metadata": {
        "id": "HHnDAiBq-GF8"
      },
      "source": [
        "#### To find the appropriate number of clusters, the Elbow method was used and the optimal number of clusters were found to be 5, based on the above graph"
      ]
    },
    {
      "cell_type": "code",
      "execution_count": 27,
      "metadata": {
        "id": "qfaKYsRPIdjy"
      },
      "outputs": [],
      "source": [
        "#Model Build\n",
        "cs_model = KMeans(n_clusters= 5, init='k-means++', random_state=1)\n",
        "pred_kmeans= cs_model.fit_predict(data[['Annual_Revenue', 'Spending_Score']])"
      ]
    },
    {
      "cell_type": "code",
      "execution_count": 28,
      "metadata": {
        "colab": {
          "base_uri": "https://localhost:8080/"
        },
        "id": "CBbHlFBFBaXJ",
        "outputId": "113496a4-773a-48ed-f42d-f11a96a9d221"
      },
      "outputs": [
        {
          "output_type": "execute_result",
          "data": {
            "text/plain": [
              "array([4, 0, 4, 0, 4, 0, 4, 0, 4, 0, 4, 0, 4, 0, 4, 0, 4, 0, 4, 0, 4, 0,\n",
              "       4, 0, 4, 0, 4, 0, 4, 0, 4, 0, 4, 0, 4, 0, 4, 0, 4, 0, 4, 0, 4, 2,\n",
              "       4, 0, 2, 2, 2, 2, 2, 2, 2, 2, 2, 2, 2, 2, 2, 2, 2, 2, 2, 2, 2, 2,\n",
              "       2, 2, 2, 2, 2, 2, 2, 2, 2, 2, 2, 2, 2, 2, 2, 2, 2, 2, 2, 2, 2, 2,\n",
              "       2, 2, 2, 2, 2, 2, 2, 2, 2, 2, 2, 2, 2, 2, 2, 2, 2, 2, 2, 2, 2, 2,\n",
              "       2, 2, 2, 2, 2, 2, 2, 2, 2, 2, 2, 2, 2, 3, 1, 3, 2, 3, 1, 3, 1, 3,\n",
              "       2, 3, 1, 3, 1, 3, 1, 3, 1, 3, 2, 3, 1, 3, 1, 3, 1, 3, 1, 3, 1, 3,\n",
              "       1, 3, 1, 3, 1, 3, 1, 3, 1, 3, 1, 3, 1, 3, 1, 3, 1, 3, 1, 3, 1, 3,\n",
              "       1, 3, 1, 3, 1, 3, 1, 3, 1, 3, 1, 3, 1, 3, 1, 3, 1, 3, 1, 3, 1, 3,\n",
              "       1, 3], dtype=int32)"
            ]
          },
          "metadata": {},
          "execution_count": 28
        }
      ],
      "source": [
        "pred_kmeans"
      ]
    },
    {
      "cell_type": "code",
      "execution_count": 29,
      "metadata": {
        "id": "dHiZGG8Y03Jw"
      },
      "outputs": [],
      "source": [
        "cluster_data=data.values"
      ]
    },
    {
      "cell_type": "markdown",
      "source": [
        "### Model EValuation\n",
        "Silhouette score metric is used to evaluate the quality of clusters created by Kmeans algorithm."
      ],
      "metadata": {
        "id": "cSSWo1ZCw-hs"
      }
    },
    {
      "cell_type": "code",
      "source": [
        "#Model Evaluation\n",
        "#Printing the silhouette score of this model\n",
        "print(silhouette_score(cluster_data, kmeans.labels_, metric='euclidean'))"
      ],
      "metadata": {
        "colab": {
          "base_uri": "https://localhost:8080/"
        },
        "id": "hq_qMo0kwWQq",
        "outputId": "c3b2e0ce-52cb-469f-e86e-93431d6b88e6"
      },
      "execution_count": 30,
      "outputs": [
        {
          "output_type": "stream",
          "name": "stdout",
          "text": [
            "0.44708939538189624\n"
          ]
        }
      ]
    },
    {
      "cell_type": "markdown",
      "source": [
        "The Score is 0.447 which is good perfomance and implies that the model can generalized well on unseen data.\n",
        "\n",
        "For the best result more data can be gathered for modeling."
      ],
      "metadata": {
        "id": "z-G1Glkwyhki"
      }
    },
    {
      "cell_type": "code",
      "execution_count": 31,
      "metadata": {
        "colab": {
          "base_uri": "https://localhost:8080/",
          "height": 404
        },
        "id": "MeQ5RJClUIQe",
        "outputId": "ca06c6e1-1556-497a-a157-f37cb4c5d9cd"
      },
      "outputs": [
        {
          "output_type": "display_data",
          "data": {
            "text/plain": [
              "<Figure size 576x432 with 1 Axes>"
            ],
            "image/png": "[encoded data removed]"
          },
          "metadata": {
            "needs_background": "light"
          }
        }
      ],
      "source": [
        "#Visualizing all the clusters in graph\n",
        "plt.figure(figsize=(8,6)) \n",
        "plt.scatter(cluster_data[pred_kmeans == 0, 0], cluster_data[pred_kmeans == 0, 1], s = 100, c = 'm', label = 'Cluster 0')\n",
        "plt.scatter(cluster_data[pred_kmeans == 1, 0], cluster_data[pred_kmeans == 1, 1], s = 100, c = 'b', label = 'Cluster 1')\n",
        "plt.scatter(cluster_data[pred_kmeans == 2, 0], cluster_data[pred_kmeans == 2, 1], s = 100, c = 'Orange', label = 'Cluster 2')\n",
        "plt.scatter(cluster_data[pred_kmeans == 3, 0], cluster_data[pred_kmeans == 3, 1], s = 100, c = 'c', label = 'Cluster 3')\n",
        "plt.scatter(cluster_data[pred_kmeans == 4, 0], cluster_data[pred_kmeans == 4, 1], s = 100, c = 'g', label = 'Cluster 4')\n",
        "plt.title('Dodoma Fresh Milk Merchants Clusters')\n",
        "plt.xlabel('Annual Revenue (k$)')\n",
        "plt.ylabel('Spending Score (1-100)')\n",
        "plt.legend()\n",
        "plt.show()"
      ]
    },
    {
      "cell_type": "code",
      "execution_count": 32,
      "metadata": {
        "colab": {
          "base_uri": "https://localhost:8080/",
          "height": 336
        },
        "id": "0hMZ1SQQ4vK3",
        "outputId": "47cca8f9-6fc9-4106-bca1-c3c5925a7d3d"
      },
      "outputs": [
        {
          "output_type": "execute_result",
          "data": {
            "text/plain": [
              "         Annual_Revenue  Spending_Score  City_Dar es Salaam  City_Moshi  \\\n",
              "Cluster                                                                   \n",
              "0                  26.0            79.0                 0.0         0.0   \n",
              "1                  88.0            17.0                 1.0         0.0   \n",
              "2                  55.0            50.0                 0.0         1.0   \n",
              "3                  87.0            82.0                 1.0         0.0   \n",
              "4                  26.0            21.0                 0.0         0.0   \n",
              "\n",
              "         City_Mtwara  City_Zanzibar City  Product_Fresh Milk 1ltr  \\\n",
              "Cluster                                                             \n",
              "0                0.0                 1.0                      0.0   \n",
              "1                0.0                 0.0                      0.0   \n",
              "2                0.0                 0.0                      1.0   \n",
              "3                0.0                 0.0                      0.0   \n",
              "4                1.0                 0.0                      0.0   \n",
              "\n",
              "         Product_Fresh Milk 250ml  Product_Mtindi 250ml  Product_Mtindi 500ml  \n",
              "Cluster                                                                        \n",
              "0                             1.0                   0.0                   0.0  \n",
              "1                             0.0                   1.0                   0.0  \n",
              "2                             0.0                   0.0                   0.0  \n",
              "3                             0.0                   1.0                   0.0  \n",
              "4                             0.0                   0.0                   1.0  "
            ],
            "text/html": [
              "\n",
              "  <div id=\"df-ffcc0e30-617b-44c0-b2d5-c7ef6c9d1fc9\">\n",
              "    <div class=\"colab-df-container\">\n",
              "      <div>\n",
              "<style scoped>\n",
              "    .dataframe tbody tr th:only-of-type {\n",
              "        vertical-align: middle;\n",
              "    }\n",
              "\n",
              "    .dataframe tbody tr th {\n",
              "        vertical-align: top;\n",
              "    }\n",
              "\n",
              "    .dataframe thead th {\n",
              "        text-align: right;\n",
              "    }\n",
              "</style>\n",
              "<table border=\"1\" class=\"dataframe\">\n",
              "  <thead>\n",
              "    <tr style=\"text-align: right;\">\n",
              "      <th></th>\n",
              "      <th>Annual_Revenue</th>\n",
              "      <th>Spending_Score</th>\n",
              "      <th>City_Dar es Salaam</th>\n",
              "      <th>City_Moshi</th>\n",
              "      <th>City_Mtwara</th>\n",
              "      <th>City_Zanzibar City</th>\n",
              "      <th>Product_Fresh Milk 1ltr</th>\n",
              "      <th>Product_Fresh Milk 250ml</th>\n",
              "      <th>Product_Mtindi 250ml</th>\n",
              "      <th>Product_Mtindi 500ml</th>\n",
              "    </tr>\n",
              "    <tr>\n",
              "      <th>Cluster</th>\n",
              "      <th></th>\n",
              "      <th></th>\n",
              "      <th></th>\n",
              "      <th></th>\n",
              "      <th></th>\n",
              "      <th></th>\n",
              "      <th></th>\n",
              "      <th></th>\n",
              "      <th></th>\n",
              "      <th></th>\n",
              "    </tr>\n",
              "  </thead>\n",
              "  <tbody>\n",
              "    <tr>\n",
              "      <th>0</th>\n",
              "      <td>26.0</td>\n",
              "      <td>79.0</td>\n",
              "      <td>0.0</td>\n",
              "      <td>0.0</td>\n",
              "      <td>0.0</td>\n",
              "      <td>1.0</td>\n",
              "      <td>0.0</td>\n",
              "      <td>1.0</td>\n",
              "      <td>0.0</td>\n",
              "      <td>0.0</td>\n",
              "    </tr>\n",
              "    <tr>\n",
              "      <th>1</th>\n",
              "      <td>88.0</td>\n",
              "      <td>17.0</td>\n",
              "      <td>1.0</td>\n",
              "      <td>0.0</td>\n",
              "      <td>0.0</td>\n",
              "      <td>0.0</td>\n",
              "      <td>0.0</td>\n",
              "      <td>0.0</td>\n",
              "      <td>1.0</td>\n",
              "      <td>0.0</td>\n",
              "    </tr>\n",
              "    <tr>\n",
              "      <th>2</th>\n",
              "      <td>55.0</td>\n",
              "      <td>50.0</td>\n",
              "      <td>0.0</td>\n",
              "      <td>1.0</td>\n",
              "      <td>0.0</td>\n",
              "      <td>0.0</td>\n",
              "      <td>1.0</td>\n",
              "      <td>0.0</td>\n",
              "      <td>0.0</td>\n",
              "      <td>0.0</td>\n",
              "    </tr>\n",
              "    <tr>\n",
              "      <th>3</th>\n",
              "      <td>87.0</td>\n",
              "      <td>82.0</td>\n",
              "      <td>1.0</td>\n",
              "      <td>0.0</td>\n",
              "      <td>0.0</td>\n",
              "      <td>0.0</td>\n",
              "      <td>0.0</td>\n",
              "      <td>0.0</td>\n",
              "      <td>1.0</td>\n",
              "      <td>0.0</td>\n",
              "    </tr>\n",
              "    <tr>\n",
              "      <th>4</th>\n",
              "      <td>26.0</td>\n",
              "      <td>21.0</td>\n",
              "      <td>0.0</td>\n",
              "      <td>0.0</td>\n",
              "      <td>1.0</td>\n",
              "      <td>0.0</td>\n",
              "      <td>0.0</td>\n",
              "      <td>0.0</td>\n",
              "      <td>0.0</td>\n",
              "      <td>1.0</td>\n",
              "    </tr>\n",
              "  </tbody>\n",
              "</table>\n",
              "</div>\n",
              "      <button class=\"colab-df-convert\" onclick=\"convertToInteractive('df-ffcc0e30-617b-44c0-b2d5-c7ef6c9d1fc9')\"\n",
              "              title=\"Convert this dataframe to an interactive table.\"\n",
              "              style=\"display:none;\">\n",
              "        \n",
              "  <svg xmlns=\"http://www.w3.org/2000/svg\" height=\"24px\"viewBox=\"0 0 24 24\"\n",
              "       width=\"24px\">\n",
              "    <path d=\"M0 0h24v24H0V0z\" fill=\"none\"/>\n",
              "    <path d=\"M18.56 5.44l.94 2.06.94-2.06 2.06-.94-2.06-.94-.94-2.06-.94 2.06-2.06.94zm-11 1L8.5 8.5l.94-2.06 2.06-.94-2.06-.94L8.5 2.5l-.94 2.06-2.06.94zm10 10l.94 2.06.94-2.06 2.06-.94-2.06-.94-.94-2.06-.94 2.06-2.06.94z\"/><path d=\"M17.41 7.96l-1.37-1.37c-.4-.4-.92-.59-1.43-.59-.52 0-1.04.2-1.43.59L10.3 9.45l-7.72 7.72c-.78.78-.78 2.05 0 2.83L4 21.41c.39.39.9.59 1.41.59.51 0 1.02-.2 1.41-.59l7.78-7.78 2.81-2.81c.8-.78.8-2.07 0-2.86zM5.41 20L4 18.59l7.72-7.72 1.47 1.35L5.41 20z\"/>\n",
              "  </svg>\n",
              "      </button>\n",
              "      \n",
              "  <style>\n",
              "    .colab-df-container {\n",
              "      display:flex;\n",
              "      flex-wrap:wrap;\n",
              "      gap: 12px;\n",
              "    }\n",
              "\n",
              "    .colab-df-convert {\n",
              "      background-color: #E8F0FE;\n",
              "      border: none;\n",
              "      border-radius: 50%;\n",
              "      cursor: pointer;\n",
              "      display: none;\n",
              "      fill: #1967D2;\n",
              "      height: 32px;\n",
              "      padding: 0 0 0 0;\n",
              "      width: 32px;\n",
              "    }\n",
              "\n",
              "    .colab-df-convert:hover {\n",
              "      background-color: #E2EBFA;\n",
              "      box-shadow: 0px 1px 2px rgba(60, 64, 67, 0.3), 0px 1px 3px 1px rgba(60, 64, 67, 0.15);\n",
              "      fill: #174EA6;\n",
              "    }\n",
              "\n",
              "    [theme=dark] .colab-df-convert {\n",
              "      background-color: #3B4455;\n",
              "      fill: #D2E3FC;\n",
              "    }\n",
              "\n",
              "    [theme=dark] .colab-df-convert:hover {\n",
              "      background-color: #434B5C;\n",
              "      box-shadow: 0px 1px 3px 1px rgba(0, 0, 0, 0.15);\n",
              "      filter: drop-shadow(0px 1px 2px rgba(0, 0, 0, 0.3));\n",
              "      fill: #FFFFFF;\n",
              "    }\n",
              "  </style>\n",
              "\n",
              "      <script>\n",
              "        const buttonEl =\n",
              "          document.querySelector('#df-ffcc0e30-617b-44c0-b2d5-c7ef6c9d1fc9 button.colab-df-convert');\n",
              "        buttonEl.style.display =\n",
              "          google.colab.kernel.accessAllowed ? 'block' : 'none';\n",
              "\n",
              "        async function convertToInteractive(key) {\n",
              "          const element = document.querySelector('#df-ffcc0e30-617b-44c0-b2d5-c7ef6c9d1fc9');\n",
              "          const dataTable =\n",
              "            await google.colab.kernel.invokeFunction('convertToInteractive',\n",
              "                                                     [key], {});\n",
              "          if (!dataTable) return;\n",
              "\n",
              "          const docLinkHtml = 'Like what you see? Visit the ' +\n",
              "            '<a target=\"_blank\" href=https://colab.research.google.com/notebooks/data_table.ipynb>data table notebook</a>'\n",
              "            + ' to learn more about interactive tables.';\n",
              "          element.innerHTML = '';\n",
              "          dataTable['output_type'] = 'display_data';\n",
              "          await google.colab.output.renderOutput(dataTable, element);\n",
              "          const docLink = document.createElement('div');\n",
              "          docLink.innerHTML = docLinkHtml;\n",
              "          element.appendChild(docLink);\n",
              "        }\n",
              "      </script>\n",
              "    </div>\n",
              "  </div>\n",
              "  "
            ]
          },
          "metadata": {},
          "execution_count": 32
        }
      ],
      "source": [
        "# Visualizing Clusters in a dataframe\n",
        "labels = pd.DataFrame(cs_model.labels_)\n",
        "Merchant_cluster = data.assign(Cluster=labels)\n",
        "\n",
        "# Grouping and display the clusters\n",
        "Merchant_cluster.groupby(['Cluster']).mean().round()"
      ]
    },
    {
      "cell_type": "markdown",
      "metadata": {
        "id": "kHak5zRC2T5z"
      },
      "source": [
        "### **Model Result**\n",
        "**Cluster 0**: \n",
        "*  Low Revenue, High Spending Score \n",
        "*  City is Zanzibar and their most purchased product is Fresh Milk 250ml\n",
        "\n",
        "\n",
        "**Cluster 1**: \n",
        "*  High Revenue, Low Spending Score\n",
        "*  City is Dar es Salaam and the most purchased product is Mtindi 250ml\n",
        "\n",
        "\n",
        "**Cluster 2**: \n",
        "\n",
        "* Average Revenue and Spending Score \n",
        "* City is Moshi and the most purchased product is Fresh Milk 1ltr\n",
        "\n",
        "**Cluster 3**:\n",
        "\n",
        "*  High Revenue, high spending score\n",
        "*  City is Dar es Salaam and the most purchased product is Mtindi 250ml\n",
        "\n",
        "**Cluster 4**:\n",
        "\n",
        "*  Low Revenue, Low spending Score\n",
        "*  ity is Mtwara and the most purchased product is Mtindi 500ml"
      ]
    },
    {
      "cell_type": "markdown",
      "metadata": {
        "id": "QdvPhVyfoh-8"
      },
      "source": [
        "<a name = \"interpreatation\"><a/>\n",
        "\n",
        "# Section 7:Model Interpretation and Recommendations"
      ]
    },
    {
      "cell_type": "markdown",
      "source": [
        "**Cluster 0: The Magenta Color**\n",
        "\n",
        "\n",
        "> This cluster comprises with Merchants who have low Annual Revenue but high spending score, They are from Zanzibar. They might be well satsfied with the product and services from the distributor.\n",
        "\n",
        "\n",
        "> The Distributor may consider to continue giving them high quality service and product together with offers like  discount of the products to retain them.\n",
        "\n",
        "\n",
        "\n",
        "**Cluster 1: The Blue Color**\n",
        "\n",
        "\n",
        "> This cluster have Merchants with high revenue and low spending score. This group might be supplied with other brands given they are from Dar es Salaam which is the center of businesses, or they are unsatisfied with the product and services of the disributor.\n",
        "\n",
        ">This group should be the target to the Distributor and the following can be done\n",
        "*  Doing a reaserch to this group to find out what product or service they are interest to.\n",
        "*  Advertisments, promotions, offers and discount rates can be done to increase their spending score\n",
        "\n",
        "\n",
        "**Cluster 2 : The Orange Color**\n",
        "\n",
        "> This Cluster have Merchants with average annual revenue and average spending score and are from Moshi. These may be the merchant who are satsfied with their businesses and they don't see the reason to grow their business and inceaase incease revenue.\n",
        "> They may not be the target group but the distributor need to retain them through advertisments, promotions and offers to boost their spending score. \n",
        "\n",
        "**Cluster 3: The Cyan Color**\n",
        "\n",
        "> This cluster have Merchants with High Revenue and High Spending Score and are from Dar es Salaam. They seem to be well satsfied with the product and services from Dodoma Fresh Milk.\n",
        "> This is the Prime Target to the distributor and more Marketing should be done this group by introducing new product to them and maintain standards to keep them satsfied. \n",
        "\n",
        "**Cluster 4 : The Green Color**\n",
        "> The Merchant in this cluster have low annual revenue and low spending score and they are from Mtwara. These may be those who are starting business or it is because of the nature of the City they are coming from, their economic status and the distance from the distributors.  \n",
        ">This group can be of least interest to the distributor though Marketing cheaper product to them and locating the service closer to them can be ideal to retain them.\n",
        "\n",
        "\n",
        "\n",
        "\n",
        "\n"
      ],
      "metadata": {
        "id": "hdAP2T0qaHso"
      }
    },
    {
      "cell_type": "markdown",
      "source": [
        "<a name = \"conlusion\"><a/>\n",
        "# Section 8 : Conclusion"
      ],
      "metadata": {
        "id": "dcYzxI9Ys_LM"
      }
    },
    {
      "cell_type": "markdown",
      "source": [
        "With the application of K-means clustering technique and the Elbow method that was used to determine the optimal number of clusters we are confident to conclude that:\n",
        "\n",
        "*  Dodoma Fresh milk should target Merchants from Cluster 0 and cluster 3 by maintaining the quality and standard of their product to keep them satsfied as they have high spending score.\n",
        "\n",
        "*  To increase sales and profit Dodoma Fresh Milk should also target cluster 1 and cluster 2 by allocating advertisments and promotions spend to this groups to boost their spending score\n",
        "\n"
      ],
      "metadata": {
        "id": "6vuf3aCWtQsj"
      }
    }
  ],
  "metadata": {
    "colab": {
      "collapsed_sections": [],
      "name": "Rozi-Mlay-Take-Home.ipynb",
      "provenance": []
    },
    "kernelspec": {
      "display_name": "Python 3",
      "language": "python",
      "name": "python3"
    },
    "language_info": {
      "codemirror_mode": {
        "name": "ipython",
        "version": 3
      },
      "file_extension": ".py",
      "mimetype": "text/x-python",
      "name": "python",
      "nbconvert_exporter": "python",
      "pygments_lexer": "ipython3",
      "version": "3.7.6"
    }
  },
  "nbformat": 4,
  "nbformat_minor": 0
}